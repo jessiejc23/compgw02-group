{
 "cells": [
  {
   "cell_type": "code",
   "execution_count": 1,
   "metadata": {},
   "outputs": [
    {
     "name": "stderr",
     "output_type": "stream",
     "text": [
      "/Users/jennyyang/anaconda3/lib/python3.6/site-packages/sklearn/cross_validation.py:41: DeprecationWarning: This module was deprecated in version 0.18 in favor of the model_selection module into which all the refactored classes and functions are moved. Also note that the interface of the new CV iterators are different from that of this module. This module will be removed in 0.20.\n",
      "  \"This module will be removed in 0.20.\", DeprecationWarning)\n"
     ]
    }
   ],
   "source": [
    "import pandas as pd\n",
    "import numpy as np\n",
    "from sklearn.tree import DecisionTreeClassifier\n",
    "from sklearn.model_selection import train_test_split\n",
    "import time \n",
    "import pickle\n",
    "import random\n",
    "from sklearn.metrics import accuracy_score\n",
    "from sklearn.metrics import precision_recall_fscore_support\n",
    "from itertools import cycle\n",
    "from sklearn.metrics import roc_curve, auc\n",
    "from sklearn import metrics\n",
    "from xgboost import XGBClassifier\n",
    "from xgboost import XGBRegressor\n",
    "from sklearn.linear_model import LogisticRegression\n",
    "import seaborn as sns\n",
    "import matplotlib.pyplot as plt\n",
    "from sklearn.metrics import mean_squared_error\n",
    "from math import sqrt"
   ]
  },
  {
   "cell_type": "markdown",
   "metadata": {},
   "source": [
    "## All Data"
   ]
  },
  {
   "cell_type": "code",
   "execution_count": 2,
   "metadata": {},
   "outputs": [],
   "source": [
    "#train_all = pd.read_csv('train0_one5th.csv')\n",
    "#train_all = pd.read_csv('train5050.csv')\n",
    "#train_all = pd.read_csv('train1040.csv')\n",
    "train_all = pd.read_csv('train100900.csv')\n",
    "#train_all = pd.read_csv('train005995.csv')\n",
    "test_data = pd.read_csv('test_full.csv')\n",
    "val_all = pd.read_csv('val_full.csv')"
   ]
  },
  {
   "cell_type": "code",
   "execution_count": 3,
   "metadata": {},
   "outputs": [
    {
     "data": {
      "text/html": [
       "<div>\n",
       "<style scoped>\n",
       "    .dataframe tbody tr th:only-of-type {\n",
       "        vertical-align: middle;\n",
       "    }\n",
       "\n",
       "    .dataframe tbody tr th {\n",
       "        vertical-align: top;\n",
       "    }\n",
       "\n",
       "    .dataframe thead th {\n",
       "        text-align: right;\n",
       "    }\n",
       "</style>\n",
       "<table border=\"1\" class=\"dataframe\">\n",
       "  <thead>\n",
       "    <tr style=\"text-align: right;\">\n",
       "      <th></th>\n",
       "      <th>click</th>\n",
       "      <th>weekday</th>\n",
       "      <th>hour</th>\n",
       "      <th>adexchange</th>\n",
       "      <th>slotwidth</th>\n",
       "      <th>slotheight</th>\n",
       "      <th>slotprice</th>\n",
       "      <th>advertiser</th>\n",
       "      <th>usertag_0</th>\n",
       "      <th>usertag_10052</th>\n",
       "      <th>...</th>\n",
       "      <th>browser_maxthon</th>\n",
       "      <th>browser_opera</th>\n",
       "      <th>browser_other</th>\n",
       "      <th>browser_safari</th>\n",
       "      <th>browser_sogou</th>\n",
       "      <th>browser_theworld</th>\n",
       "      <th>bidprice</th>\n",
       "      <th>payprice</th>\n",
       "      <th>freq_c</th>\n",
       "      <th>freq_r</th>\n",
       "    </tr>\n",
       "  </thead>\n",
       "  <tbody>\n",
       "    <tr>\n",
       "      <th>0</th>\n",
       "      <td>0</td>\n",
       "      <td>3</td>\n",
       "      <td>21</td>\n",
       "      <td>2</td>\n",
       "      <td>300</td>\n",
       "      <td>250</td>\n",
       "      <td>5</td>\n",
       "      <td>3386</td>\n",
       "      <td>0</td>\n",
       "      <td>0</td>\n",
       "      <td>...</td>\n",
       "      <td>0</td>\n",
       "      <td>0</td>\n",
       "      <td>0</td>\n",
       "      <td>0</td>\n",
       "      <td>0</td>\n",
       "      <td>0</td>\n",
       "      <td>300</td>\n",
       "      <td>14</td>\n",
       "      <td>0.001344</td>\n",
       "      <td>0.033467</td>\n",
       "    </tr>\n",
       "    <tr>\n",
       "      <th>1</th>\n",
       "      <td>0</td>\n",
       "      <td>5</td>\n",
       "      <td>1</td>\n",
       "      <td>1</td>\n",
       "      <td>950</td>\n",
       "      <td>90</td>\n",
       "      <td>0</td>\n",
       "      <td>3427</td>\n",
       "      <td>1</td>\n",
       "      <td>0</td>\n",
       "      <td>...</td>\n",
       "      <td>0</td>\n",
       "      <td>0</td>\n",
       "      <td>0</td>\n",
       "      <td>0</td>\n",
       "      <td>0</td>\n",
       "      <td>0</td>\n",
       "      <td>227</td>\n",
       "      <td>74</td>\n",
       "      <td>0.001258</td>\n",
       "      <td>0.029835</td>\n",
       "    </tr>\n",
       "    <tr>\n",
       "      <th>2</th>\n",
       "      <td>0</td>\n",
       "      <td>5</td>\n",
       "      <td>7</td>\n",
       "      <td>3</td>\n",
       "      <td>1000</td>\n",
       "      <td>90</td>\n",
       "      <td>70</td>\n",
       "      <td>3476</td>\n",
       "      <td>0</td>\n",
       "      <td>0</td>\n",
       "      <td>...</td>\n",
       "      <td>0</td>\n",
       "      <td>0</td>\n",
       "      <td>0</td>\n",
       "      <td>0</td>\n",
       "      <td>0</td>\n",
       "      <td>0</td>\n",
       "      <td>254</td>\n",
       "      <td>73</td>\n",
       "      <td>0.001286</td>\n",
       "      <td>0.044469</td>\n",
       "    </tr>\n",
       "    <tr>\n",
       "      <th>3</th>\n",
       "      <td>0</td>\n",
       "      <td>1</td>\n",
       "      <td>1</td>\n",
       "      <td>2</td>\n",
       "      <td>728</td>\n",
       "      <td>90</td>\n",
       "      <td>52</td>\n",
       "      <td>2821</td>\n",
       "      <td>1</td>\n",
       "      <td>0</td>\n",
       "      <td>...</td>\n",
       "      <td>0</td>\n",
       "      <td>0</td>\n",
       "      <td>0</td>\n",
       "      <td>0</td>\n",
       "      <td>0</td>\n",
       "      <td>0</td>\n",
       "      <td>277</td>\n",
       "      <td>52</td>\n",
       "      <td>0.001983</td>\n",
       "      <td>0.044469</td>\n",
       "    </tr>\n",
       "    <tr>\n",
       "      <th>4</th>\n",
       "      <td>0</td>\n",
       "      <td>2</td>\n",
       "      <td>17</td>\n",
       "      <td>1</td>\n",
       "      <td>300</td>\n",
       "      <td>250</td>\n",
       "      <td>0</td>\n",
       "      <td>3386</td>\n",
       "      <td>1</td>\n",
       "      <td>0</td>\n",
       "      <td>...</td>\n",
       "      <td>0</td>\n",
       "      <td>0</td>\n",
       "      <td>0</td>\n",
       "      <td>1</td>\n",
       "      <td>0</td>\n",
       "      <td>0</td>\n",
       "      <td>300</td>\n",
       "      <td>47</td>\n",
       "      <td>0.001750</td>\n",
       "      <td>0.012885</td>\n",
       "    </tr>\n",
       "  </tbody>\n",
       "</table>\n",
       "<p>5 rows × 103 columns</p>\n",
       "</div>"
      ],
      "text/plain": [
       "   click  weekday  hour  adexchange  slotwidth  slotheight  slotprice  \\\n",
       "0      0        3    21           2        300         250          5   \n",
       "1      0        5     1           1        950          90          0   \n",
       "2      0        5     7           3       1000          90         70   \n",
       "3      0        1     1           2        728          90         52   \n",
       "4      0        2    17           1        300         250          0   \n",
       "\n",
       "   advertiser  usertag_0  usertag_10052    ...     browser_maxthon  \\\n",
       "0        3386          0              0    ...                   0   \n",
       "1        3427          1              0    ...                   0   \n",
       "2        3476          0              0    ...                   0   \n",
       "3        2821          1              0    ...                   0   \n",
       "4        3386          1              0    ...                   0   \n",
       "\n",
       "   browser_opera  browser_other  browser_safari  browser_sogou  \\\n",
       "0              0              0               0              0   \n",
       "1              0              0               0              0   \n",
       "2              0              0               0              0   \n",
       "3              0              0               0              0   \n",
       "4              0              0               1              0   \n",
       "\n",
       "   browser_theworld  bidprice  payprice    freq_c    freq_r  \n",
       "0                 0       300        14  0.001344  0.033467  \n",
       "1                 0       227        74  0.001258  0.029835  \n",
       "2                 0       254        73  0.001286  0.044469  \n",
       "3                 0       277        52  0.001983  0.044469  \n",
       "4                 0       300        47  0.001750  0.012885  \n",
       "\n",
       "[5 rows x 103 columns]"
      ]
     },
     "execution_count": 3,
     "metadata": {},
     "output_type": "execute_result"
    }
   ],
   "source": [
    "#train_all = train_all.drop(train_all.columns[[0,1]],axis =1)\n",
    "train_all= train_all.drop(['region','city','counts_r','counts_c','Unnamed: 0','index'],axis =1)\n",
    "train_all.head(5)"
   ]
  },
  {
   "cell_type": "code",
   "execution_count": 4,
   "metadata": {},
   "outputs": [
    {
     "data": {
      "text/html": [
       "<div>\n",
       "<style scoped>\n",
       "    .dataframe tbody tr th:only-of-type {\n",
       "        vertical-align: middle;\n",
       "    }\n",
       "\n",
       "    .dataframe tbody tr th {\n",
       "        vertical-align: top;\n",
       "    }\n",
       "\n",
       "    .dataframe thead th {\n",
       "        text-align: right;\n",
       "    }\n",
       "</style>\n",
       "<table border=\"1\" class=\"dataframe\">\n",
       "  <thead>\n",
       "    <tr style=\"text-align: right;\">\n",
       "      <th></th>\n",
       "      <th>weekday</th>\n",
       "      <th>hour</th>\n",
       "      <th>adexchange</th>\n",
       "      <th>slotwidth</th>\n",
       "      <th>slotheight</th>\n",
       "      <th>slotprice</th>\n",
       "      <th>advertiser</th>\n",
       "      <th>usertag_10024</th>\n",
       "      <th>usertag_10077</th>\n",
       "      <th>usertag_10075</th>\n",
       "      <th>...</th>\n",
       "      <th>browser_firefox</th>\n",
       "      <th>browser_ie</th>\n",
       "      <th>browser_maxthon</th>\n",
       "      <th>browser_opera</th>\n",
       "      <th>browser_other</th>\n",
       "      <th>browser_safari</th>\n",
       "      <th>browser_sogou</th>\n",
       "      <th>browser_theworld</th>\n",
       "      <th>freq_c</th>\n",
       "      <th>freq_r</th>\n",
       "    </tr>\n",
       "  </thead>\n",
       "  <tbody>\n",
       "    <tr>\n",
       "      <th>0</th>\n",
       "      <td>0</td>\n",
       "      <td>12</td>\n",
       "      <td>3</td>\n",
       "      <td>300</td>\n",
       "      <td>250</td>\n",
       "      <td>10</td>\n",
       "      <td>3427</td>\n",
       "      <td>1</td>\n",
       "      <td>1</td>\n",
       "      <td>1</td>\n",
       "      <td>...</td>\n",
       "      <td>0</td>\n",
       "      <td>0</td>\n",
       "      <td>0</td>\n",
       "      <td>0</td>\n",
       "      <td>0</td>\n",
       "      <td>0</td>\n",
       "      <td>0</td>\n",
       "      <td>0</td>\n",
       "      <td>0.004638</td>\n",
       "      <td>0.065971</td>\n",
       "    </tr>\n",
       "    <tr>\n",
       "      <th>1</th>\n",
       "      <td>3</td>\n",
       "      <td>14</td>\n",
       "      <td>0</td>\n",
       "      <td>320</td>\n",
       "      <td>50</td>\n",
       "      <td>5</td>\n",
       "      <td>2997</td>\n",
       "      <td>0</td>\n",
       "      <td>0</td>\n",
       "      <td>0</td>\n",
       "      <td>...</td>\n",
       "      <td>0</td>\n",
       "      <td>0</td>\n",
       "      <td>0</td>\n",
       "      <td>0</td>\n",
       "      <td>0</td>\n",
       "      <td>1</td>\n",
       "      <td>0</td>\n",
       "      <td>0</td>\n",
       "      <td>0.041582</td>\n",
       "      <td>0.041582</td>\n",
       "    </tr>\n",
       "    <tr>\n",
       "      <th>2</th>\n",
       "      <td>5</td>\n",
       "      <td>19</td>\n",
       "      <td>1</td>\n",
       "      <td>336</td>\n",
       "      <td>280</td>\n",
       "      <td>0</td>\n",
       "      <td>1458</td>\n",
       "      <td>1</td>\n",
       "      <td>0</td>\n",
       "      <td>0</td>\n",
       "      <td>...</td>\n",
       "      <td>0</td>\n",
       "      <td>1</td>\n",
       "      <td>0</td>\n",
       "      <td>0</td>\n",
       "      <td>0</td>\n",
       "      <td>0</td>\n",
       "      <td>0</td>\n",
       "      <td>0</td>\n",
       "      <td>0.001335</td>\n",
       "      <td>0.012635</td>\n",
       "    </tr>\n",
       "    <tr>\n",
       "      <th>3</th>\n",
       "      <td>0</td>\n",
       "      <td>21</td>\n",
       "      <td>4</td>\n",
       "      <td>960</td>\n",
       "      <td>90</td>\n",
       "      <td>30</td>\n",
       "      <td>2821</td>\n",
       "      <td>0</td>\n",
       "      <td>0</td>\n",
       "      <td>1</td>\n",
       "      <td>...</td>\n",
       "      <td>0</td>\n",
       "      <td>1</td>\n",
       "      <td>0</td>\n",
       "      <td>0</td>\n",
       "      <td>0</td>\n",
       "      <td>0</td>\n",
       "      <td>0</td>\n",
       "      <td>0</td>\n",
       "      <td>0.000910</td>\n",
       "      <td>0.023984</td>\n",
       "    </tr>\n",
       "    <tr>\n",
       "      <th>4</th>\n",
       "      <td>2</td>\n",
       "      <td>20</td>\n",
       "      <td>3</td>\n",
       "      <td>300</td>\n",
       "      <td>250</td>\n",
       "      <td>50</td>\n",
       "      <td>3386</td>\n",
       "      <td>0</td>\n",
       "      <td>0</td>\n",
       "      <td>0</td>\n",
       "      <td>...</td>\n",
       "      <td>0</td>\n",
       "      <td>1</td>\n",
       "      <td>0</td>\n",
       "      <td>0</td>\n",
       "      <td>0</td>\n",
       "      <td>0</td>\n",
       "      <td>0</td>\n",
       "      <td>0</td>\n",
       "      <td>0.000722</td>\n",
       "      <td>0.012635</td>\n",
       "    </tr>\n",
       "  </tbody>\n",
       "</table>\n",
       "<p>5 rows × 100 columns</p>\n",
       "</div>"
      ],
      "text/plain": [
       "   weekday  hour  adexchange  slotwidth  slotheight  slotprice  advertiser  \\\n",
       "0        0    12           3        300         250         10        3427   \n",
       "1        3    14           0        320          50          5        2997   \n",
       "2        5    19           1        336         280          0        1458   \n",
       "3        0    21           4        960          90         30        2821   \n",
       "4        2    20           3        300         250         50        3386   \n",
       "\n",
       "   usertag_10024  usertag_10077  usertag_10075    ...     browser_firefox  \\\n",
       "0              1              1              1    ...                   0   \n",
       "1              0              0              0    ...                   0   \n",
       "2              1              0              0    ...                   0   \n",
       "3              0              0              1    ...                   0   \n",
       "4              0              0              0    ...                   0   \n",
       "\n",
       "   browser_ie  browser_maxthon  browser_opera  browser_other  browser_safari  \\\n",
       "0           0                0              0              0               0   \n",
       "1           0                0              0              0               1   \n",
       "2           1                0              0              0               0   \n",
       "3           1                0              0              0               0   \n",
       "4           1                0              0              0               0   \n",
       "\n",
       "   browser_sogou  browser_theworld    freq_c    freq_r  \n",
       "0              0                 0  0.004638  0.065971  \n",
       "1              0                 0  0.041582  0.041582  \n",
       "2              0                 0  0.001335  0.012635  \n",
       "3              0                 0  0.000910  0.023984  \n",
       "4              0                 0  0.000722  0.012635  \n",
       "\n",
       "[5 rows x 100 columns]"
      ]
     },
     "execution_count": 4,
     "metadata": {},
     "output_type": "execute_result"
    }
   ],
   "source": [
    "#test_data = test_data.drop(test_data.columns[[0]],axis =1)\n",
    "test_data= test_data.drop(['region','city','counts_r','counts_c','Unnamed: 0'],axis =1)\n",
    "test_data.head(5)"
   ]
  },
  {
   "cell_type": "code",
   "execution_count": 5,
   "metadata": {},
   "outputs": [
    {
     "data": {
      "text/html": [
       "<div>\n",
       "<style scoped>\n",
       "    .dataframe tbody tr th:only-of-type {\n",
       "        vertical-align: middle;\n",
       "    }\n",
       "\n",
       "    .dataframe tbody tr th {\n",
       "        vertical-align: top;\n",
       "    }\n",
       "\n",
       "    .dataframe thead th {\n",
       "        text-align: right;\n",
       "    }\n",
       "</style>\n",
       "<table border=\"1\" class=\"dataframe\">\n",
       "  <thead>\n",
       "    <tr style=\"text-align: right;\">\n",
       "      <th></th>\n",
       "      <th>weekday</th>\n",
       "      <th>hour</th>\n",
       "      <th>adexchange</th>\n",
       "      <th>slotwidth</th>\n",
       "      <th>slotheight</th>\n",
       "      <th>slotprice</th>\n",
       "      <th>bidprice</th>\n",
       "      <th>payprice</th>\n",
       "      <th>advertiser</th>\n",
       "      <th>click</th>\n",
       "      <th>...</th>\n",
       "      <th>browser_firefox</th>\n",
       "      <th>browser_ie</th>\n",
       "      <th>browser_maxthon</th>\n",
       "      <th>browser_opera</th>\n",
       "      <th>browser_other</th>\n",
       "      <th>browser_safari</th>\n",
       "      <th>browser_sogou</th>\n",
       "      <th>browser_theworld</th>\n",
       "      <th>freq_c</th>\n",
       "      <th>freq_r</th>\n",
       "    </tr>\n",
       "  </thead>\n",
       "  <tbody>\n",
       "    <tr>\n",
       "      <th>0</th>\n",
       "      <td>4</td>\n",
       "      <td>20</td>\n",
       "      <td>1</td>\n",
       "      <td>160</td>\n",
       "      <td>600</td>\n",
       "      <td>0</td>\n",
       "      <td>300</td>\n",
       "      <td>23</td>\n",
       "      <td>1458</td>\n",
       "      <td>0</td>\n",
       "      <td>...</td>\n",
       "      <td>0</td>\n",
       "      <td>1</td>\n",
       "      <td>0</td>\n",
       "      <td>0</td>\n",
       "      <td>0</td>\n",
       "      <td>0</td>\n",
       "      <td>0</td>\n",
       "      <td>0</td>\n",
       "      <td>0.026276</td>\n",
       "      <td>0.026276</td>\n",
       "    </tr>\n",
       "    <tr>\n",
       "      <th>1</th>\n",
       "      <td>1</td>\n",
       "      <td>21</td>\n",
       "      <td>1</td>\n",
       "      <td>950</td>\n",
       "      <td>90</td>\n",
       "      <td>0</td>\n",
       "      <td>238</td>\n",
       "      <td>75</td>\n",
       "      <td>3476</td>\n",
       "      <td>0</td>\n",
       "      <td>...</td>\n",
       "      <td>0</td>\n",
       "      <td>0</td>\n",
       "      <td>0</td>\n",
       "      <td>0</td>\n",
       "      <td>0</td>\n",
       "      <td>0</td>\n",
       "      <td>0</td>\n",
       "      <td>0</td>\n",
       "      <td>0.026276</td>\n",
       "      <td>0.026276</td>\n",
       "    </tr>\n",
       "    <tr>\n",
       "      <th>2</th>\n",
       "      <td>4</td>\n",
       "      <td>8</td>\n",
       "      <td>2</td>\n",
       "      <td>300</td>\n",
       "      <td>250</td>\n",
       "      <td>5</td>\n",
       "      <td>238</td>\n",
       "      <td>65</td>\n",
       "      <td>3358</td>\n",
       "      <td>0</td>\n",
       "      <td>...</td>\n",
       "      <td>0</td>\n",
       "      <td>1</td>\n",
       "      <td>0</td>\n",
       "      <td>0</td>\n",
       "      <td>0</td>\n",
       "      <td>0</td>\n",
       "      <td>0</td>\n",
       "      <td>0</td>\n",
       "      <td>0.014994</td>\n",
       "      <td>0.014994</td>\n",
       "    </tr>\n",
       "    <tr>\n",
       "      <th>3</th>\n",
       "      <td>5</td>\n",
       "      <td>15</td>\n",
       "      <td>2</td>\n",
       "      <td>336</td>\n",
       "      <td>280</td>\n",
       "      <td>5</td>\n",
       "      <td>238</td>\n",
       "      <td>6</td>\n",
       "      <td>3358</td>\n",
       "      <td>0</td>\n",
       "      <td>...</td>\n",
       "      <td>0</td>\n",
       "      <td>0</td>\n",
       "      <td>0</td>\n",
       "      <td>0</td>\n",
       "      <td>0</td>\n",
       "      <td>0</td>\n",
       "      <td>0</td>\n",
       "      <td>0</td>\n",
       "      <td>0.002172</td>\n",
       "      <td>0.027197</td>\n",
       "    </tr>\n",
       "    <tr>\n",
       "      <th>4</th>\n",
       "      <td>1</td>\n",
       "      <td>18</td>\n",
       "      <td>2</td>\n",
       "      <td>200</td>\n",
       "      <td>200</td>\n",
       "      <td>5</td>\n",
       "      <td>249</td>\n",
       "      <td>5</td>\n",
       "      <td>3476</td>\n",
       "      <td>0</td>\n",
       "      <td>...</td>\n",
       "      <td>0</td>\n",
       "      <td>0</td>\n",
       "      <td>0</td>\n",
       "      <td>0</td>\n",
       "      <td>0</td>\n",
       "      <td>0</td>\n",
       "      <td>0</td>\n",
       "      <td>0</td>\n",
       "      <td>0.005459</td>\n",
       "      <td>0.019347</td>\n",
       "    </tr>\n",
       "  </tbody>\n",
       "</table>\n",
       "<p>5 rows × 103 columns</p>\n",
       "</div>"
      ],
      "text/plain": [
       "   weekday  hour  adexchange  slotwidth  slotheight  slotprice  bidprice  \\\n",
       "0        4    20           1        160         600          0       300   \n",
       "1        1    21           1        950          90          0       238   \n",
       "2        4     8           2        300         250          5       238   \n",
       "3        5    15           2        336         280          5       238   \n",
       "4        1    18           2        200         200          5       249   \n",
       "\n",
       "   payprice  advertiser  click    ...     browser_firefox  browser_ie  \\\n",
       "0        23        1458      0    ...                   0           1   \n",
       "1        75        3476      0    ...                   0           0   \n",
       "2        65        3358      0    ...                   0           1   \n",
       "3         6        3358      0    ...                   0           0   \n",
       "4         5        3476      0    ...                   0           0   \n",
       "\n",
       "   browser_maxthon  browser_opera  browser_other  browser_safari  \\\n",
       "0                0              0              0               0   \n",
       "1                0              0              0               0   \n",
       "2                0              0              0               0   \n",
       "3                0              0              0               0   \n",
       "4                0              0              0               0   \n",
       "\n",
       "   browser_sogou  browser_theworld    freq_c    freq_r  \n",
       "0              0                 0  0.026276  0.026276  \n",
       "1              0                 0  0.026276  0.026276  \n",
       "2              0                 0  0.014994  0.014994  \n",
       "3              0                 0  0.002172  0.027197  \n",
       "4              0                 0  0.005459  0.019347  \n",
       "\n",
       "[5 rows x 103 columns]"
      ]
     },
     "execution_count": 5,
     "metadata": {},
     "output_type": "execute_result"
    }
   ],
   "source": [
    "#val_all = val_all.drop(val_all.columns[[0,1]],axis =1)\n",
    "val_all= val_all.drop(['region','city','counts_r','counts_c','Unnamed: 0','index'],axis =1)\n",
    "val_all.head(5)"
   ]
  },
  {
   "cell_type": "code",
   "execution_count": 6,
   "metadata": {},
   "outputs": [
    {
     "name": "stderr",
     "output_type": "stream",
     "text": [
      "/Users/jennyyang/anaconda3/lib/python3.6/site-packages/ipykernel_launcher.py:1: FutureWarning: '.reindex_axis' is deprecated and will be removed in a future version. Use '.reindex' instead.\n",
      "  \"\"\"Entry point for launching an IPython kernel.\n"
     ]
    },
    {
     "data": {
      "text/plain": [
       "(717200, 103)"
      ]
     },
     "execution_count": 6,
     "metadata": {},
     "output_type": "execute_result"
    }
   ],
   "source": [
    "train_all_1 = train_all.reindex_axis(sorted(train_all.columns), axis=1)\n",
    "#list(train_all_1)\n",
    "train_all_1.shape"
   ]
  },
  {
   "cell_type": "code",
   "execution_count": 7,
   "metadata": {},
   "outputs": [
    {
     "name": "stderr",
     "output_type": "stream",
     "text": [
      "/Users/jennyyang/anaconda3/lib/python3.6/site-packages/ipykernel_launcher.py:1: FutureWarning: '.reindex_axis' is deprecated and will be removed in a future version. Use '.reindex' instead.\n",
      "  \"\"\"Entry point for launching an IPython kernel.\n"
     ]
    },
    {
     "data": {
      "text/plain": [
       "(303375, 100)"
      ]
     },
     "execution_count": 7,
     "metadata": {},
     "output_type": "execute_result"
    }
   ],
   "source": [
    "test_data_1 = test_data.reindex_axis(sorted(test_data.columns), axis=1)\n",
    "#list(test_data_1)\n",
    "test_data_1.shape"
   ]
  },
  {
   "cell_type": "code",
   "execution_count": 40,
   "metadata": {},
   "outputs": [
    {
     "name": "stderr",
     "output_type": "stream",
     "text": [
      "/Users/jennyyang/anaconda3/lib/python3.6/site-packages/ipykernel_launcher.py:1: FutureWarning: '.reindex_axis' is deprecated and will be removed in a future version. Use '.reindex' instead.\n",
      "  \"\"\"Entry point for launching an IPython kernel.\n"
     ]
    },
    {
     "data": {
      "text/plain": [
       "(303925, 103)"
      ]
     },
     "execution_count": 40,
     "metadata": {},
     "output_type": "execute_result"
    }
   ],
   "source": [
    "val_all_1 = val_all.reindex_axis(sorted(val_all.columns), axis=1)\n",
    "#list(val_all_1)\n",
    "val_all_1.shape"
   ]
  },
  {
   "cell_type": "code",
   "execution_count": null,
   "metadata": {},
   "outputs": [],
   "source": []
  },
  {
   "cell_type": "markdown",
   "metadata": {},
   "source": [
    "## Split data"
   ]
  },
  {
   "cell_type": "code",
   "execution_count": 9,
   "metadata": {},
   "outputs": [
    {
     "name": "stdout",
     "output_type": "stream",
     "text": [
      "(717200,)\n",
      "(717200,)\n",
      "(717200, 100)\n",
      "(303925,)\n",
      "(303925,)\n",
      "(303925, 100)\n"
     ]
    }
   ],
   "source": [
    "#100 features\n",
    "train_y_ctr = train_all_1['click']\n",
    "train_y_wp = train_all_1['payprice']\n",
    "train_x = train_all_1.drop(['click','payprice','bidprice'],axis =1)\n",
    "test_y_ctr = val_all_1['click']\n",
    "test_y_wp = val_all_1['payprice']\n",
    "test_x = val_all_1.drop(['click','payprice','bidprice'],axis =1)\n",
    "\n",
    "print(train_y_ctr.shape)\n",
    "print(train_y_wp.shape)\n",
    "print(train_x.shape)\n",
    "print(test_y_ctr.shape)\n",
    "print(test_y_wp.shape)\n",
    "print(test_x.shape)"
   ]
  },
  {
   "cell_type": "markdown",
   "metadata": {},
   "source": [
    "# Models"
   ]
  },
  {
   "cell_type": "markdown",
   "metadata": {},
   "source": [
    "## Predict pCTR"
   ]
  },
  {
   "cell_type": "code",
   "execution_count": 10,
   "metadata": {},
   "outputs": [
    {
     "name": "stdout",
     "output_type": "stream",
     "text": [
      "MODEL 1 - Xgboost Classifier - pCTR\n",
      "score = 0.995255408407\n",
      "auc = 0.695846769316\n",
      "Running time = 218.16753101348877\n",
      "pCTR: \n",
      "[ 0.01810302  0.013336    0.01698269 ...,  0.05522097  0.03828786\n",
      "  0.04730557]\n"
     ]
    }
   ],
   "source": [
    "#\"MODEL 1 - Xgboost Classifier - clf_pCTR \"\n",
    "\n",
    "start = time.time()\n",
    "clf = XGBClassifier(learning_rate= 0.1, max_depth= 5, \n",
    "                    n_estimators = 100,\n",
    "                    gamma = 0,\n",
    "                      min_child_weight =7,\n",
    "                      colsample_bytree=0.6,\n",
    "                      subsample=0.95, reg_alpha = 0.03)\n",
    "clf_pCTR = clf.fit(train_x, train_y_ctr)\n",
    "prediction1 = np.array(clf_pCTR.predict(test_x))\n",
    "pCTR_m1 = clf_pCTR.predict_proba(test_x)  \n",
    "end = time.time()\n",
    "\n",
    "# AUC accuracy\n",
    "fpr, tpr, thresholds = metrics.roc_curve(test_y_ctr, prediction1)\n",
    "auc = metrics.auc(fpr, tpr)\n",
    "\n",
    "score = accuracy_score(test_y_ctr, prediction1)\n",
    "\n",
    "    \n",
    "print(\"MODEL 1 - Xgboost Classifier - pCTR\")\n",
    "print(\"score =\", score)\n",
    "print(\"auc =\", auc)\n",
    "#print (\"error_model_1 = \", 1-score)\n",
    "print(\"Running time =\", end - start)\n",
    "print(\"pCTR: \")\n",
    "print(pCTR_m1[:,1])\n"
   ]
  },
  {
   "cell_type": "code",
   "execution_count": 11,
   "metadata": {},
   "outputs": [],
   "source": [
    "clf_pCTR = pickle.dumps(clf_pCTR)"
   ]
  },
  {
   "cell_type": "code",
   "execution_count": 12,
   "metadata": {},
   "outputs": [],
   "source": [
    "clf_pCTR = pickle.loads(clf_pCTR)"
   ]
  },
  {
   "cell_type": "code",
   "execution_count": 42,
   "metadata": {},
   "outputs": [
    {
     "data": {
      "text/plain": [
       "array([ 0.01810302,  0.013336  ,  0.01698269, ...,  0.05522097,\n",
       "        0.03828786,  0.04730557], dtype=float32)"
      ]
     },
     "execution_count": 42,
     "metadata": {},
     "output_type": "execute_result"
    }
   ],
   "source": [
    "results_pCTR = pCTR_m1[:,1]\n",
    "results_pCTR"
   ]
  },
  {
   "cell_type": "code",
   "execution_count": 57,
   "metadata": {},
   "outputs": [
    {
     "data": {
      "text/html": [
       "<div>\n",
       "<style scoped>\n",
       "    .dataframe tbody tr th:only-of-type {\n",
       "        vertical-align: middle;\n",
       "    }\n",
       "\n",
       "    .dataframe tbody tr th {\n",
       "        vertical-align: top;\n",
       "    }\n",
       "\n",
       "    .dataframe thead th {\n",
       "        text-align: right;\n",
       "    }\n",
       "</style>\n",
       "<table border=\"1\" class=\"dataframe\">\n",
       "  <thead>\n",
       "    <tr style=\"text-align: right;\">\n",
       "      <th></th>\n",
       "      <th>pCTR</th>\n",
       "    </tr>\n",
       "  </thead>\n",
       "  <tbody>\n",
       "    <tr>\n",
       "      <th>0</th>\n",
       "      <td>0.018103</td>\n",
       "    </tr>\n",
       "    <tr>\n",
       "      <th>1</th>\n",
       "      <td>0.013336</td>\n",
       "    </tr>\n",
       "    <tr>\n",
       "      <th>2</th>\n",
       "      <td>0.016983</td>\n",
       "    </tr>\n",
       "    <tr>\n",
       "      <th>3</th>\n",
       "      <td>0.019592</td>\n",
       "    </tr>\n",
       "    <tr>\n",
       "      <th>4</th>\n",
       "      <td>0.009988</td>\n",
       "    </tr>\n",
       "  </tbody>\n",
       "</table>\n",
       "</div>"
      ],
      "text/plain": [
       "       pCTR\n",
       "0  0.018103\n",
       "1  0.013336\n",
       "2  0.016983\n",
       "3  0.019592\n",
       "4  0.009988"
      ]
     },
     "execution_count": 57,
     "metadata": {},
     "output_type": "execute_result"
    }
   ],
   "source": [
    "r_pCTR=pd.DataFrame(data =results_pCTR, columns=['pCTR'])\n",
    "r_pCTR.head(5)\n",
    "#r.shape"
   ]
  },
  {
   "cell_type": "code",
   "execution_count": 15,
   "metadata": {},
   "outputs": [],
   "source": [
    "def gen_pCTR (df):\n",
    "    pCTR_m1 = np.array(clf_pCTR.predict_proba(df))\n",
    "    results_pCTR = pCTR_m1[:,1]\n",
    "    r_pCTR=pd.DataFrame(data =results_pCTR, columns=['pCTR'])\n",
    "    return r_pCTR"
   ]
  },
  {
   "cell_type": "code",
   "execution_count": 16,
   "metadata": {},
   "outputs": [],
   "source": [
    "#r_pCTR = gen_pCTR (test_data_1)"
   ]
  },
  {
   "cell_type": "markdown",
   "metadata": {},
   "source": [
    "## Predict pWP"
   ]
  },
  {
   "cell_type": "code",
   "execution_count": 17,
   "metadata": {},
   "outputs": [
    {
     "name": "stdout",
     "output_type": "stream",
     "text": [
      "MODEL 2 - LR Classifier - clf2_pWP\n",
      "Running time = 212.0104010105133\n",
      "pWP: \n",
      "[  65.6975708    91.52745819   77.35237122 ...,  108.89304352   57.02135849\n",
      "   59.96221542]\n"
     ]
    }
   ],
   "source": [
    "#\"MODEL 2 - XGBRegressor() - clf2_pWP\"\n",
    "\n",
    "# Train and Predict\n",
    "start = time.time()\n",
    "#clf2_pWP = XGBClassifier()\n",
    "clf2_pWP = XGBRegressor()\n",
    "clf2_pWP.fit(train_x, train_y_wp)\n",
    "prediction2_wp = np.array(clf2_pWP.predict(test_x))\n",
    "rms = sqrt(mean_squared_error(test_y_wp, prediction2_wp))\n",
    "pWP_m6 = clf.predict_proba(test_x)  \n",
    "end = time.time()\n",
    "\n",
    "print(\"MODEL 2 - LR Classifier - clf2_pWP\")\n",
    "print(\"Running time =\", end - start)\n",
    "print(\"pWP: \")\n",
    "print(prediction2_wp)"
   ]
  },
  {
   "cell_type": "code",
   "execution_count": 18,
   "metadata": {},
   "outputs": [],
   "source": [
    "clf2_pWP = pickle.dumps(clf2_pWP)"
   ]
  },
  {
   "cell_type": "code",
   "execution_count": 19,
   "metadata": {},
   "outputs": [],
   "source": [
    "clf2_pWP = pickle.loads(clf2_pWP)"
   ]
  },
  {
   "cell_type": "code",
   "execution_count": 56,
   "metadata": {},
   "outputs": [
    {
     "data": {
      "text/html": [
       "<div>\n",
       "<style scoped>\n",
       "    .dataframe tbody tr th:only-of-type {\n",
       "        vertical-align: middle;\n",
       "    }\n",
       "\n",
       "    .dataframe tbody tr th {\n",
       "        vertical-align: top;\n",
       "    }\n",
       "\n",
       "    .dataframe thead th {\n",
       "        text-align: right;\n",
       "    }\n",
       "</style>\n",
       "<table border=\"1\" class=\"dataframe\">\n",
       "  <thead>\n",
       "    <tr style=\"text-align: right;\">\n",
       "      <th></th>\n",
       "      <th>pWP</th>\n",
       "    </tr>\n",
       "  </thead>\n",
       "  <tbody>\n",
       "    <tr>\n",
       "      <th>0</th>\n",
       "      <td>65.697571</td>\n",
       "    </tr>\n",
       "    <tr>\n",
       "      <th>1</th>\n",
       "      <td>91.527458</td>\n",
       "    </tr>\n",
       "    <tr>\n",
       "      <th>2</th>\n",
       "      <td>77.352371</td>\n",
       "    </tr>\n",
       "    <tr>\n",
       "      <th>3</th>\n",
       "      <td>59.052113</td>\n",
       "    </tr>\n",
       "    <tr>\n",
       "      <th>4</th>\n",
       "      <td>57.523701</td>\n",
       "    </tr>\n",
       "  </tbody>\n",
       "</table>\n",
       "</div>"
      ],
      "text/plain": [
       "         pWP\n",
       "0  65.697571\n",
       "1  91.527458\n",
       "2  77.352371\n",
       "3  59.052113\n",
       "4  57.523701"
      ]
     },
     "execution_count": 56,
     "metadata": {},
     "output_type": "execute_result"
    }
   ],
   "source": [
    "r_pWP = pd.DataFrame(data = prediction2_wp, columns=['pWP'])\n",
    "r_pWP.head(5)"
   ]
  },
  {
   "cell_type": "code",
   "execution_count": 21,
   "metadata": {},
   "outputs": [],
   "source": [
    "def gen_pWP (df):\n",
    "    prediction2_wp = np.array(clf2_pWP.predict(df))\n",
    "    r_pWP = pd.DataFrame(data = prediction2_wp, columns=['pWP'])\n",
    "    return r_pWP"
   ]
  },
  {
   "cell_type": "code",
   "execution_count": 22,
   "metadata": {},
   "outputs": [],
   "source": [
    "#r_pWP = gen_pWP(test_data_1)"
   ]
  },
  {
   "cell_type": "markdown",
   "metadata": {},
   "source": [
    "## Merge results"
   ]
  },
  {
   "cell_type": "code",
   "execution_count": 23,
   "metadata": {},
   "outputs": [],
   "source": [
    "def comb (df, r_pCTR, r_pWP):\n",
    "    data_comb = df.reset_index()\n",
    "    data_comb = data_comb.drop(data_comb.columns[[0]], axis=1)\n",
    "    print('test_comb: ', data_comb.shape)\n",
    "    print('r_pCTR:', r_pCTR.shape)\n",
    "    print('r_pWP:' ,r_pWP.shape)\n",
    "    data_comb= pd.concat([data_comb, r_pWP], axis = 1)\n",
    "    data_comb= pd.concat([data_comb, r_pCTR], axis = 1)\n",
    "    print('new test_comb: ',data_comb.shape)\n",
    "    return data_comb"
   ]
  },
  {
   "cell_type": "code",
   "execution_count": 58,
   "metadata": {},
   "outputs": [
    {
     "name": "stdout",
     "output_type": "stream",
     "text": [
      "test_comb:  (303925, 103)\n",
      "r_pCTR: (303925, 1)\n",
      "r_pWP: (303925, 1)\n",
      "new test_comb:  (303925, 105)\n"
     ]
    }
   ],
   "source": [
    "val_comb = comb (val_all_1, r_pCTR, r_pWP)"
   ]
  },
  {
   "cell_type": "code",
   "execution_count": 25,
   "metadata": {},
   "outputs": [
    {
     "name": "stdout",
     "output_type": "stream",
     "text": [
      "test_comb:  (303375, 100)\n",
      "r_pCTR: (303375, 1)\n",
      "r_pWP: (303375, 1)\n",
      "new test_comb:  (303375, 102)\n"
     ]
    }
   ],
   "source": [
    "test_comb = comb (test_data_1, r_pCTR, r_pWP)"
   ]
  },
  {
   "cell_type": "markdown",
   "metadata": {},
   "source": [
    "## Calculate Rho"
   ]
  },
  {
   "cell_type": "code",
   "execution_count": 59,
   "metadata": {},
   "outputs": [
    {
     "data": {
      "text/plain": [
       "(303925, 106)"
      ]
     },
     "execution_count": 59,
     "metadata": {},
     "output_type": "execute_result"
    }
   ],
   "source": [
    "val_comb['Rho']= val_comb['pCTR']/val_comb['pWP']\n",
    "val_comb.shape"
   ]
  },
  {
   "cell_type": "code",
   "execution_count": 27,
   "metadata": {},
   "outputs": [
    {
     "data": {
      "text/plain": [
       "(303375, 103)"
      ]
     },
     "execution_count": 27,
     "metadata": {},
     "output_type": "execute_result"
    }
   ],
   "source": [
    "test_comb['Rho']= test_comb['pCTR']/test_comb['pWP']\n",
    "test_comb.shape"
   ]
  },
  {
   "cell_type": "code",
   "execution_count": 28,
   "metadata": {},
   "outputs": [
    {
     "data": {
      "text/plain": [
       "0    1.721414\n",
       "1    3.111351\n",
       "2    0.187286\n",
       "3    1.687714\n",
       "4    0.837441\n",
       "Name: Rho, dtype: float32"
      ]
     },
     "execution_count": 28,
     "metadata": {},
     "output_type": "execute_result"
    }
   ],
   "source": [
    "test_comb['Rho'] = test_comb['Rho'] * 1000\n",
    "test_comb['Rho'].head(5)"
   ]
  },
  {
   "cell_type": "code",
   "execution_count": 60,
   "metadata": {},
   "outputs": [
    {
     "data": {
      "text/plain": [
       "0    0.275551\n",
       "1    0.145705\n",
       "2    0.219550\n",
       "3    0.331771\n",
       "4    0.173629\n",
       "Name: Rho, dtype: float32"
      ]
     },
     "execution_count": 60,
     "metadata": {},
     "output_type": "execute_result"
    }
   ],
   "source": [
    "val_comb['Rho'] = val_comb['Rho'] * 1000\n",
    "val_comb['Rho'].head(5)"
   ]
  },
  {
   "cell_type": "code",
   "execution_count": 61,
   "metadata": {},
   "outputs": [
    {
     "data": {
      "image/png": "[encoded data removed]",
      "text/plain": [
       "<matplotlib.figure.Figure at 0x1396cfeb8>"
      ]
     },
     "metadata": {},
     "output_type": "display_data"
    }
   ],
   "source": [
    "q_75 = val_comb['Rho'].quantile(0.75)\n",
    "q_25 = val_comb['Rho'].quantile(0.25)\n",
    "less_25 = val_comb['Rho'][val_comb['Rho'] <= q_25]\n",
    "sns.distplot(less_25, bins = 500)\n",
    "plt.show()"
   ]
  },
  {
   "cell_type": "code",
   "execution_count": 62,
   "metadata": {},
   "outputs": [
    {
     "data": {
      "image/png": "[encoded data removed]",
      "text/plain": [
       "<matplotlib.figure.Figure at 0x1e987bb00>"
      ]
     },
     "metadata": {},
     "output_type": "display_data"
    }
   ],
   "source": [
    "sns.distplot(val_comb['bidprice']-val_comb['payprice'])\n",
    "plt.show()"
   ]
  },
  {
   "cell_type": "markdown",
   "metadata": {},
   "source": [
    "## Function: check clicks"
   ]
  },
  {
   "cell_type": "code",
   "execution_count": 63,
   "metadata": {},
   "outputs": [],
   "source": [
    "#B_curr=6250000\n",
    "\n",
    "def test_clicks (df, E_Rho, B_curr, min_inc):\n",
    "    i = 0\n",
    "    c = 0\n",
    "    s = 0\n",
    "    b = 0\n",
    "    while (B_curr > 0) and (i < len(df)):\n",
    "        if (df['Rho'].iloc[i] < E_Rho): \n",
    "            i += 1\n",
    "        elif (df['payprice'].iloc[i] > B_curr):\n",
    "            i += 1\n",
    "        elif (df['pWP'].iloc[i] < df['slotprice'].iloc[i]):\n",
    "            i += 1\n",
    "        elif ((df['pWP'].iloc[i] + min_inc) < df['bidprice'].iloc[i]):\n",
    "            i += 1  \n",
    "        else: \n",
    "            B_curr -= df['payprice'].iloc[i]\n",
    "            c += df['click'].iloc[i]\n",
    "            b += 1\n",
    "            s += df['payprice'].iloc[i]\n",
    "            i += 1\n",
    "            #print(i, c, s, B_curr)\n",
    "    return c, s, b"
   ]
  },
  {
   "cell_type": "code",
   "execution_count": null,
   "metadata": {},
   "outputs": [],
   "source": []
  },
  {
   "cell_type": "markdown",
   "metadata": {},
   "source": [
    "## Find optimal Rho"
   ]
  },
  {
   "cell_type": "code",
   "execution_count": 64,
   "metadata": {},
   "outputs": [
    {
     "data": {
      "text/plain": [
       "(202, 106)"
      ]
     },
     "execution_count": 64,
     "metadata": {},
     "output_type": "execute_result"
    }
   ],
   "source": [
    "val_comb_1=val_comb[val_comb['click']==1]\n",
    "val_comb_1.shape"
   ]
  },
  {
   "cell_type": "code",
   "execution_count": 65,
   "metadata": {},
   "outputs": [
    {
     "name": "stdout",
     "output_type": "stream",
     "text": [
      "Rho_avg:  0.7293069958686829\n",
      "Rho_med:  0.47073841094970703\n",
      "Rho1_avg:  5.463656425476074\n",
      "Rho1_med:  3.305744171142578\n",
      "Rho1_min:  0.213741\n",
      "Rho1_max:  23.8784\n",
      "Rho1_q25:  1.12327441573143\n"
     ]
    }
   ],
   "source": [
    "Rho = val_comb['Rho']\n",
    "Rho_avg = Rho.mean()\n",
    "print('Rho_avg: ', Rho_avg)\n",
    "Rho_med = Rho.median()\n",
    "print('Rho_med: ',Rho_med)\n",
    "\n",
    "Rho1 = val_comb_1['Rho']\n",
    "Rho1_avg = Rho1.mean()\n",
    "print('Rho1_avg: ',Rho1_avg)\n",
    "Rho1_med = Rho1.median()\n",
    "print('Rho1_med: ',Rho1_med)\n",
    "Rho1_min = Rho1.min()\n",
    "print('Rho1_min: ',Rho1_min)\n",
    "Rho1_max = Rho1.max()\n",
    "print('Rho1_max: ',Rho1_max)\n",
    "Rho1_q25 = Rho1.quantile(0.25)\n",
    "print('Rho1_q25: ',Rho1_q25)"
   ]
  },
  {
   "cell_type": "code",
   "execution_count": 66,
   "metadata": {},
   "outputs": [
    {
     "data": {
      "image/png": "[encoded data removed]",
      "text/plain": [
       "<matplotlib.figure.Figure at 0x1374bda58>"
      ]
     },
     "metadata": {},
     "output_type": "display_data"
    }
   ],
   "source": [
    "r1_q25 = val_comb_1['Rho'][val_comb_1['Rho'] <= Rho1_q25]\n",
    "sns.distplot(r1_q25, bins = 50)\n",
    "plt.show()\n"
   ]
  },
  {
   "cell_type": "code",
   "execution_count": 67,
   "metadata": {},
   "outputs": [
    {
     "name": "stdout",
     "output_type": "stream",
     "text": [
      "[  63.   75.   93.  122.  146.  162.  160.  160.  151.  139.] [ 6250000.  6250000.  6250000.  6250000.  6250000.  5536640.  4600442.\n",
      "  3953017.  3168223.  2559648.] [ 6250000.  6250000.  6250000.  6250000.  6250000.  5536640.  4600442.\n",
      "  3953017.  3168223.  2559648.    33982.]\n"
     ]
    }
   ],
   "source": [
    "import random\n",
    "\n",
    "df = val_comb\n",
    "\n",
    "#j = 0\n",
    "clicks =[]\n",
    "spends=[]\n",
    "bids = []\n",
    "J=[]\n",
    "j=0.25\n",
    "\n",
    "while j < 1.2: \n",
    "    min_inc = random.sample(range(235,275), 1)\n",
    "    c, s, b = test_clicks(df, j, 6250000,min_inc)\n",
    "    clicks = np.append(clicks,c)\n",
    "    spends = np.append(spends,s)\n",
    "    bids = np.append(spends,b)\n",
    "    J = np.append(J,j)\n",
    "    j +=0.1\n",
    "\n",
    "print(clicks, spends, bids)"
   ]
  },
  {
   "cell_type": "code",
   "execution_count": 68,
   "metadata": {},
   "outputs": [
    {
     "data": {
      "text/html": [
       "<div>\n",
       "<style scoped>\n",
       "    .dataframe tbody tr th:only-of-type {\n",
       "        vertical-align: middle;\n",
       "    }\n",
       "\n",
       "    .dataframe tbody tr th {\n",
       "        vertical-align: top;\n",
       "    }\n",
       "\n",
       "    .dataframe thead th {\n",
       "        text-align: right;\n",
       "    }\n",
       "</style>\n",
       "<table border=\"1\" class=\"dataframe\">\n",
       "  <thead>\n",
       "    <tr style=\"text-align: right;\">\n",
       "      <th></th>\n",
       "      <th>Rho_threshold</th>\n",
       "      <th>Clicks</th>\n",
       "    </tr>\n",
       "  </thead>\n",
       "  <tbody>\n",
       "    <tr>\n",
       "      <th>0</th>\n",
       "      <td>0.25</td>\n",
       "      <td>63.0</td>\n",
       "    </tr>\n",
       "    <tr>\n",
       "      <th>1</th>\n",
       "      <td>0.35</td>\n",
       "      <td>75.0</td>\n",
       "    </tr>\n",
       "    <tr>\n",
       "      <th>2</th>\n",
       "      <td>0.45</td>\n",
       "      <td>93.0</td>\n",
       "    </tr>\n",
       "    <tr>\n",
       "      <th>3</th>\n",
       "      <td>0.55</td>\n",
       "      <td>122.0</td>\n",
       "    </tr>\n",
       "    <tr>\n",
       "      <th>4</th>\n",
       "      <td>0.65</td>\n",
       "      <td>146.0</td>\n",
       "    </tr>\n",
       "    <tr>\n",
       "      <th>5</th>\n",
       "      <td>0.75</td>\n",
       "      <td>162.0</td>\n",
       "    </tr>\n",
       "    <tr>\n",
       "      <th>6</th>\n",
       "      <td>0.85</td>\n",
       "      <td>160.0</td>\n",
       "    </tr>\n",
       "    <tr>\n",
       "      <th>7</th>\n",
       "      <td>0.95</td>\n",
       "      <td>160.0</td>\n",
       "    </tr>\n",
       "    <tr>\n",
       "      <th>8</th>\n",
       "      <td>1.05</td>\n",
       "      <td>151.0</td>\n",
       "    </tr>\n",
       "    <tr>\n",
       "      <th>9</th>\n",
       "      <td>1.15</td>\n",
       "      <td>139.0</td>\n",
       "    </tr>\n",
       "  </tbody>\n",
       "</table>\n",
       "</div>"
      ],
      "text/plain": [
       "   Rho_threshold  Clicks\n",
       "0           0.25    63.0\n",
       "1           0.35    75.0\n",
       "2           0.45    93.0\n",
       "3           0.55   122.0\n",
       "4           0.65   146.0\n",
       "5           0.75   162.0\n",
       "6           0.85   160.0\n",
       "7           0.95   160.0\n",
       "8           1.05   151.0\n",
       "9           1.15   139.0"
      ]
     },
     "execution_count": 68,
     "metadata": {},
     "output_type": "execute_result"
    }
   ],
   "source": [
    "df_C = pd.DataFrame(data =clicks,columns=['Clicks'] )\n",
    "df_J = pd.DataFrame(data =J,columns=['Rho_threshold'] )\n",
    "df_T = pd.concat([df_J,df_C],axis = 1)\n",
    "df_T"
   ]
  },
  {
   "cell_type": "code",
   "execution_count": 72,
   "metadata": {},
   "outputs": [
    {
     "data": {
      "image/png": "[encoded data removed]",
      "text/plain": [
       "<matplotlib.figure.Figure at 0x1e988c080>"
      ]
     },
     "metadata": {},
     "output_type": "display_data"
    }
   ],
   "source": [
    "plt.plot(df_T ['Rho_threshold'],  df_T ['Clicks']) \n",
    "plt.xlabel(\"Rho Benchmark\")\n",
    "plt.ylabel(\"Clicks\")\n",
    "plt.show()"
   ]
  },
  {
   "cell_type": "code",
   "execution_count": 73,
   "metadata": {},
   "outputs": [
    {
     "name": "stderr",
     "output_type": "stream",
     "text": [
      "/Users/jennyyang/anaconda3/lib/python3.6/site-packages/numpy/core/fromnumeric.py:57: FutureWarning: 'argmax' is deprecated. Use 'idxmax' instead. The behavior of 'argmax' will be corrected to return the positional maximum in the future. Use 'series.values.argmax' to get the position of the maximum now.\n",
      "  return getattr(obj, method)(*args, **kwds)\n"
     ]
    },
    {
     "data": {
      "text/plain": [
       "0.75"
      ]
     },
     "execution_count": 73,
     "metadata": {},
     "output_type": "execute_result"
    }
   ],
   "source": [
    "Rho_min = np.argmax(df_T ['Clicks'])*0.1+0.25\n",
    "Rho_min "
   ]
  },
  {
   "cell_type": "markdown",
   "metadata": {},
   "source": [
    "## Find optimal bidding increment "
   ]
  },
  {
   "cell_type": "code",
   "execution_count": 74,
   "metadata": {},
   "outputs": [
    {
     "name": "stdout",
     "output_type": "stream",
     "text": [
      "[ 160.  160.  160.  161.  161.  162.  162.  162.  162.  162.  162.  165.\n",
      "  165.  166.  166.  166.  166.  166.  167.  168.  169.  169.  170.  170.\n",
      "  170.  170.  170.  170.  170.  170.  170.  170.  170.  170.  170.  170.\n",
      "  170.  170.  170.  170.  170.] [ 5301544.  5330348.  5354376.  5396573.  5439530.  5478489.  5497175.\n",
      "  5517600.  5536640.  5555105.  5580454.  5611095.  5646625.  5673093.\n",
      "  5687083.  5693915.  5701726.  5711605.  5728343.  5749689.  5774413.\n",
      "  5819462.  5850797.  5886606.  5907232.  5921919.  5929217.  5931876.\n",
      "  5933866.  5935446.  5937911.  5939231.  5939431.  5939691.  5939751.\n",
      "  5939751.  5939751.  5939751.  5939751.  5939751.  5939751.] [ 5301544.  5330348.  5354376.  5396573.  5439530.  5478489.  5497175.\n",
      "  5517600.  5536640.  5555105.  5580454.  5611095.  5646625.  5673093.\n",
      "  5687083.  5693915.  5701726.  5711605.  5728343.  5749689.  5774413.\n",
      "  5819462.  5850797.  5886606.  5907232.  5921919.  5929217.  5931876.\n",
      "  5933866.  5935446.  5937911.  5939231.  5939431.  5939691.  5939751.\n",
      "  5939751.  5939751.  5939751.  5939751.  5939751.  5939751.    84842.]\n"
     ]
    }
   ],
   "source": [
    "#j = 0\n",
    "clicks =[]\n",
    "spends=[]\n",
    "bids=[]\n",
    "M=[]\n",
    "m=240\n",
    "\n",
    "while m <= 280: \n",
    "    c, s, b = test_clicks(val_comb, 0.75, 6250000,m)\n",
    "    clicks = np.append(clicks,c)\n",
    "    spends = np.append(spends,s)\n",
    "    bids = np.append(spends,b)\n",
    "    M = np.append(M,m)\n",
    "    m +=1\n",
    "\n",
    "print(clicks, spends, bids)"
   ]
  },
  {
   "cell_type": "code",
   "execution_count": 75,
   "metadata": {},
   "outputs": [
    {
     "data": {
      "text/html": [
       "<div>\n",
       "<style scoped>\n",
       "    .dataframe tbody tr th:only-of-type {\n",
       "        vertical-align: middle;\n",
       "    }\n",
       "\n",
       "    .dataframe tbody tr th {\n",
       "        vertical-align: top;\n",
       "    }\n",
       "\n",
       "    .dataframe thead th {\n",
       "        text-align: right;\n",
       "    }\n",
       "</style>\n",
       "<table border=\"1\" class=\"dataframe\">\n",
       "  <thead>\n",
       "    <tr style=\"text-align: right;\">\n",
       "      <th></th>\n",
       "      <th>Min_increment</th>\n",
       "      <th>Clicks</th>\n",
       "    </tr>\n",
       "  </thead>\n",
       "  <tbody>\n",
       "    <tr>\n",
       "      <th>0</th>\n",
       "      <td>240.0</td>\n",
       "      <td>160.0</td>\n",
       "    </tr>\n",
       "    <tr>\n",
       "      <th>1</th>\n",
       "      <td>241.0</td>\n",
       "      <td>160.0</td>\n",
       "    </tr>\n",
       "    <tr>\n",
       "      <th>2</th>\n",
       "      <td>242.0</td>\n",
       "      <td>160.0</td>\n",
       "    </tr>\n",
       "    <tr>\n",
       "      <th>3</th>\n",
       "      <td>243.0</td>\n",
       "      <td>161.0</td>\n",
       "    </tr>\n",
       "    <tr>\n",
       "      <th>4</th>\n",
       "      <td>244.0</td>\n",
       "      <td>161.0</td>\n",
       "    </tr>\n",
       "  </tbody>\n",
       "</table>\n",
       "</div>"
      ],
      "text/plain": [
       "   Min_increment  Clicks\n",
       "0          240.0   160.0\n",
       "1          241.0   160.0\n",
       "2          242.0   160.0\n",
       "3          243.0   161.0\n",
       "4          244.0   161.0"
      ]
     },
     "execution_count": 75,
     "metadata": {},
     "output_type": "execute_result"
    }
   ],
   "source": [
    "df_C = pd.DataFrame(data =clicks,columns=['Clicks'] )\n",
    "df_M = pd.DataFrame(data =M,columns=['Min_increment'] )\n",
    "df_T = pd.concat([df_M,df_C],axis = 1)\n",
    "df_T.head(5)"
   ]
  },
  {
   "cell_type": "code",
   "execution_count": 76,
   "metadata": {},
   "outputs": [
    {
     "data": {
      "image/png": "[encoded data removed]",
      "text/plain": [
       "<matplotlib.figure.Figure at 0x16d97a240>"
      ]
     },
     "metadata": {},
     "output_type": "display_data"
    }
   ],
   "source": [
    "plt.plot(df_T ['Min_increment'],  df_T ['Clicks']) \n",
    "plt.xlabel(\"Base Bid\")\n",
    "plt.ylabel(\"Clicks\")\n",
    "plt.show()"
   ]
  },
  {
   "cell_type": "code",
   "execution_count": 77,
   "metadata": {},
   "outputs": [
    {
     "name": "stderr",
     "output_type": "stream",
     "text": [
      "/Users/jennyyang/anaconda3/lib/python3.6/site-packages/numpy/core/fromnumeric.py:57: FutureWarning: 'argmax' is deprecated. Use 'idxmax' instead. The behavior of 'argmax' will be corrected to return the positional maximum in the future. Use 'series.values.argmax' to get the position of the maximum now.\n",
      "  return getattr(obj, method)(*args, **kwds)\n"
     ]
    },
    {
     "data": {
      "text/plain": [
       "262"
      ]
     },
     "execution_count": 77,
     "metadata": {},
     "output_type": "execute_result"
    }
   ],
   "source": [
    "Inc_max = np.argmax(df_T ['Clicks'])+240\n",
    "Inc_max "
   ]
  },
  {
   "cell_type": "code",
   "execution_count": null,
   "metadata": {},
   "outputs": [],
   "source": []
  },
  {
   "cell_type": "code",
   "execution_count": 78,
   "metadata": {},
   "outputs": [
    {
     "data": {
      "text/plain": [
       "(170, 5850797, 81099)"
      ]
     },
     "execution_count": 78,
     "metadata": {},
     "output_type": "execute_result"
    }
   ],
   "source": [
    "test_clicks(val_comb, 0.75, 6250000,262)"
   ]
  },
  {
   "cell_type": "code",
   "execution_count": null,
   "metadata": {},
   "outputs": [],
   "source": []
  },
  {
   "cell_type": "code",
   "execution_count": null,
   "metadata": {},
   "outputs": [],
   "source": []
  },
  {
   "cell_type": "code",
   "execution_count": null,
   "metadata": {},
   "outputs": [],
   "source": []
  },
  {
   "cell_type": "code",
   "execution_count": null,
   "metadata": {},
   "outputs": [],
   "source": []
  }
 ],
 "metadata": {
  "kernelspec": {
   "display_name": "Python 3",
   "language": "python",
   "name": "python3"
  },
  "language_info": {
   "codemirror_mode": {
    "name": "ipython",
    "version": 3
   },
   "file_extension": ".py",
   "mimetype": "text/x-python",
   "name": "python",
   "nbconvert_exporter": "python",
   "pygments_lexer": "ipython3",
   "version": "3.6.2"
  }
 },
 "nbformat": 4,
 "nbformat_minor": 2
}
