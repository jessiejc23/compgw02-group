{
 "cells": [
  {
   "cell_type": "code",
   "execution_count": null,
   "metadata": {},
   "outputs": [],
   "source": [
    "import pandas as pd\n",
    "import numpy as np\n",
    "from sklearn.tree import DecisionTreeClassifier\n",
    "from sklearn.model_selection import train_test_split\n",
    "import time \n",
    "import pickle\n",
    "import random\n",
    "from sklearn.metrics import accuracy_score\n",
    "from sklearn.metrics import precision_recall_fscore_support\n",
    "from itertools import cycle\n",
    "from sklearn.metrics import roc_curve, auc\n",
    "from sklearn import metrics\n",
    "from xgboost import XGBClassifier\n",
    "from xgboost import XGBRegressor\n",
    "from sklearn.linear_model import LogisticRegression\n",
    "import seaborn as sns\n",
    "import matplotlib.pyplot as plt\n",
    "from sklearn.metrics import mean_squared_error\n",
    "from math import sqrt"
   ]
  },
  {
   "cell_type": "markdown",
   "metadata": {},
   "source": [
    "## All Data"
   ]
  },
  {
   "cell_type": "code",
   "execution_count": 2,
   "metadata": {},
   "outputs": [],
   "source": [
    "#train_all = pd.read_csv('train0_one5th.csv')\n",
    "#train_all = pd.read_csv('train5050.csv')\n",
    "#train_all = pd.read_csv('train1040.csv')\n",
    "train_all = pd.read_csv('train100900.csv')\n",
    "#train_all = pd.read_csv('train005995.csv')\n",
    "test_data = pd.read_csv('test_full.csv')\n",
    "val_all = pd.read_csv('val_full.csv')"
   ]
  },
  {
   "cell_type": "code",
   "execution_count": 3,
   "metadata": {},
   "outputs": [
    {
     "data": {
      "text/html": [
       "<div>\n",
       "<style scoped>\n",
       "    .dataframe tbody tr th:only-of-type {\n",
       "        vertical-align: middle;\n",
       "    }\n",
       "\n",
       "    .dataframe tbody tr th {\n",
       "        vertical-align: top;\n",
       "    }\n",
       "\n",
       "    .dataframe thead th {\n",
       "        text-align: right;\n",
       "    }\n",
       "</style>\n",
       "<table border=\"1\" class=\"dataframe\">\n",
       "  <thead>\n",
       "    <tr style=\"text-align: right;\">\n",
       "      <th></th>\n",
       "      <th>click</th>\n",
       "      <th>weekday</th>\n",
       "      <th>hour</th>\n",
       "      <th>adexchange</th>\n",
       "      <th>slotwidth</th>\n",
       "      <th>slotheight</th>\n",
       "      <th>slotprice</th>\n",
       "      <th>advertiser</th>\n",
       "      <th>usertag_0</th>\n",
       "      <th>usertag_10052</th>\n",
       "      <th>...</th>\n",
       "      <th>browser_maxthon</th>\n",
       "      <th>browser_opera</th>\n",
       "      <th>browser_other</th>\n",
       "      <th>browser_safari</th>\n",
       "      <th>browser_sogou</th>\n",
       "      <th>browser_theworld</th>\n",
       "      <th>bidprice</th>\n",
       "      <th>payprice</th>\n",
       "      <th>freq_c</th>\n",
       "      <th>freq_r</th>\n",
       "    </tr>\n",
       "  </thead>\n",
       "  <tbody>\n",
       "    <tr>\n",
       "      <th>0</th>\n",
       "      <td>0</td>\n",
       "      <td>3</td>\n",
       "      <td>21</td>\n",
       "      <td>2</td>\n",
       "      <td>300</td>\n",
       "      <td>250</td>\n",
       "      <td>5</td>\n",
       "      <td>3386</td>\n",
       "      <td>0</td>\n",
       "      <td>0</td>\n",
       "      <td>...</td>\n",
       "      <td>0</td>\n",
       "      <td>0</td>\n",
       "      <td>0</td>\n",
       "      <td>0</td>\n",
       "      <td>0</td>\n",
       "      <td>0</td>\n",
       "      <td>300</td>\n",
       "      <td>14</td>\n",
       "      <td>0.001344</td>\n",
       "      <td>0.033467</td>\n",
       "    </tr>\n",
       "    <tr>\n",
       "      <th>1</th>\n",
       "      <td>0</td>\n",
       "      <td>5</td>\n",
       "      <td>1</td>\n",
       "      <td>1</td>\n",
       "      <td>950</td>\n",
       "      <td>90</td>\n",
       "      <td>0</td>\n",
       "      <td>3427</td>\n",
       "      <td>1</td>\n",
       "      <td>0</td>\n",
       "      <td>...</td>\n",
       "      <td>0</td>\n",
       "      <td>0</td>\n",
       "      <td>0</td>\n",
       "      <td>0</td>\n",
       "      <td>0</td>\n",
       "      <td>0</td>\n",
       "      <td>227</td>\n",
       "      <td>74</td>\n",
       "      <td>0.001258</td>\n",
       "      <td>0.029835</td>\n",
       "    </tr>\n",
       "    <tr>\n",
       "      <th>2</th>\n",
       "      <td>0</td>\n",
       "      <td>5</td>\n",
       "      <td>7</td>\n",
       "      <td>3</td>\n",
       "      <td>1000</td>\n",
       "      <td>90</td>\n",
       "      <td>70</td>\n",
       "      <td>3476</td>\n",
       "      <td>0</td>\n",
       "      <td>0</td>\n",
       "      <td>...</td>\n",
       "      <td>0</td>\n",
       "      <td>0</td>\n",
       "      <td>0</td>\n",
       "      <td>0</td>\n",
       "      <td>0</td>\n",
       "      <td>0</td>\n",
       "      <td>254</td>\n",
       "      <td>73</td>\n",
       "      <td>0.001286</td>\n",
       "      <td>0.044469</td>\n",
       "    </tr>\n",
       "    <tr>\n",
       "      <th>3</th>\n",
       "      <td>0</td>\n",
       "      <td>1</td>\n",
       "      <td>1</td>\n",
       "      <td>2</td>\n",
       "      <td>728</td>\n",
       "      <td>90</td>\n",
       "      <td>52</td>\n",
       "      <td>2821</td>\n",
       "      <td>1</td>\n",
       "      <td>0</td>\n",
       "      <td>...</td>\n",
       "      <td>0</td>\n",
       "      <td>0</td>\n",
       "      <td>0</td>\n",
       "      <td>0</td>\n",
       "      <td>0</td>\n",
       "      <td>0</td>\n",
       "      <td>277</td>\n",
       "      <td>52</td>\n",
       "      <td>0.001983</td>\n",
       "      <td>0.044469</td>\n",
       "    </tr>\n",
       "    <tr>\n",
       "      <th>4</th>\n",
       "      <td>0</td>\n",
       "      <td>2</td>\n",
       "      <td>17</td>\n",
       "      <td>1</td>\n",
       "      <td>300</td>\n",
       "      <td>250</td>\n",
       "      <td>0</td>\n",
       "      <td>3386</td>\n",
       "      <td>1</td>\n",
       "      <td>0</td>\n",
       "      <td>...</td>\n",
       "      <td>0</td>\n",
       "      <td>0</td>\n",
       "      <td>0</td>\n",
       "      <td>1</td>\n",
       "      <td>0</td>\n",
       "      <td>0</td>\n",
       "      <td>300</td>\n",
       "      <td>47</td>\n",
       "      <td>0.001750</td>\n",
       "      <td>0.012885</td>\n",
       "    </tr>\n",
       "  </tbody>\n",
       "</table>\n",
       "<p>5 rows × 103 columns</p>\n",
       "</div>"
      ],
      "text/plain": [
       "   click  weekday  hour  adexchange  slotwidth  slotheight  slotprice  \\\n",
       "0      0        3    21           2        300         250          5   \n",
       "1      0        5     1           1        950          90          0   \n",
       "2      0        5     7           3       1000          90         70   \n",
       "3      0        1     1           2        728          90         52   \n",
       "4      0        2    17           1        300         250          0   \n",
       "\n",
       "   advertiser  usertag_0  usertag_10052    ...     browser_maxthon  \\\n",
       "0        3386          0              0    ...                   0   \n",
       "1        3427          1              0    ...                   0   \n",
       "2        3476          0              0    ...                   0   \n",
       "3        2821          1              0    ...                   0   \n",
       "4        3386          1              0    ...                   0   \n",
       "\n",
       "   browser_opera  browser_other  browser_safari  browser_sogou  \\\n",
       "0              0              0               0              0   \n",
       "1              0              0               0              0   \n",
       "2              0              0               0              0   \n",
       "3              0              0               0              0   \n",
       "4              0              0               1              0   \n",
       "\n",
       "   browser_theworld  bidprice  payprice    freq_c    freq_r  \n",
       "0                 0       300        14  0.001344  0.033467  \n",
       "1                 0       227        74  0.001258  0.029835  \n",
       "2                 0       254        73  0.001286  0.044469  \n",
       "3                 0       277        52  0.001983  0.044469  \n",
       "4                 0       300        47  0.001750  0.012885  \n",
       "\n",
       "[5 rows x 103 columns]"
      ]
     },
     "execution_count": 3,
     "metadata": {},
     "output_type": "execute_result"
    }
   ],
   "source": [
    "#train_all = train_all.drop(train_all.columns[[0,1]],axis =1)\n",
    "train_all= train_all.drop(['region','city','counts_r','counts_c','Unnamed: 0','index'],axis =1)\n",
    "train_all.head(5)"
   ]
  },
  {
   "cell_type": "code",
   "execution_count": 4,
   "metadata": {},
   "outputs": [
    {
     "data": {
      "text/html": [
       "<div>\n",
       "<style scoped>\n",
       "    .dataframe tbody tr th:only-of-type {\n",
       "        vertical-align: middle;\n",
       "    }\n",
       "\n",
       "    .dataframe tbody tr th {\n",
       "        vertical-align: top;\n",
       "    }\n",
       "\n",
       "    .dataframe thead th {\n",
       "        text-align: right;\n",
       "    }\n",
       "</style>\n",
       "<table border=\"1\" class=\"dataframe\">\n",
       "  <thead>\n",
       "    <tr style=\"text-align: right;\">\n",
       "      <th></th>\n",
       "      <th>weekday</th>\n",
       "      <th>hour</th>\n",
       "      <th>adexchange</th>\n",
       "      <th>slotwidth</th>\n",
       "      <th>slotheight</th>\n",
       "      <th>slotprice</th>\n",
       "      <th>advertiser</th>\n",
       "      <th>usertag_10024</th>\n",
       "      <th>usertag_10077</th>\n",
       "      <th>usertag_10075</th>\n",
       "      <th>...</th>\n",
       "      <th>browser_firefox</th>\n",
       "      <th>browser_ie</th>\n",
       "      <th>browser_maxthon</th>\n",
       "      <th>browser_opera</th>\n",
       "      <th>browser_other</th>\n",
       "      <th>browser_safari</th>\n",
       "      <th>browser_sogou</th>\n",
       "      <th>browser_theworld</th>\n",
       "      <th>freq_c</th>\n",
       "      <th>freq_r</th>\n",
       "    </tr>\n",
       "  </thead>\n",
       "  <tbody>\n",
       "    <tr>\n",
       "      <th>0</th>\n",
       "      <td>0</td>\n",
       "      <td>12</td>\n",
       "      <td>3</td>\n",
       "      <td>300</td>\n",
       "      <td>250</td>\n",
       "      <td>10</td>\n",
       "      <td>3427</td>\n",
       "      <td>1</td>\n",
       "      <td>1</td>\n",
       "      <td>1</td>\n",
       "      <td>...</td>\n",
       "      <td>0</td>\n",
       "      <td>0</td>\n",
       "      <td>0</td>\n",
       "      <td>0</td>\n",
       "      <td>0</td>\n",
       "      <td>0</td>\n",
       "      <td>0</td>\n",
       "      <td>0</td>\n",
       "      <td>0.004638</td>\n",
       "      <td>0.065971</td>\n",
       "    </tr>\n",
       "    <tr>\n",
       "      <th>1</th>\n",
       "      <td>3</td>\n",
       "      <td>14</td>\n",
       "      <td>0</td>\n",
       "      <td>320</td>\n",
       "      <td>50</td>\n",
       "      <td>5</td>\n",
       "      <td>2997</td>\n",
       "      <td>0</td>\n",
       "      <td>0</td>\n",
       "      <td>0</td>\n",
       "      <td>...</td>\n",
       "      <td>0</td>\n",
       "      <td>0</td>\n",
       "      <td>0</td>\n",
       "      <td>0</td>\n",
       "      <td>0</td>\n",
       "      <td>1</td>\n",
       "      <td>0</td>\n",
       "      <td>0</td>\n",
       "      <td>0.041582</td>\n",
       "      <td>0.041582</td>\n",
       "    </tr>\n",
       "    <tr>\n",
       "      <th>2</th>\n",
       "      <td>5</td>\n",
       "      <td>19</td>\n",
       "      <td>1</td>\n",
       "      <td>336</td>\n",
       "      <td>280</td>\n",
       "      <td>0</td>\n",
       "      <td>1458</td>\n",
       "      <td>1</td>\n",
       "      <td>0</td>\n",
       "      <td>0</td>\n",
       "      <td>...</td>\n",
       "      <td>0</td>\n",
       "      <td>1</td>\n",
       "      <td>0</td>\n",
       "      <td>0</td>\n",
       "      <td>0</td>\n",
       "      <td>0</td>\n",
       "      <td>0</td>\n",
       "      <td>0</td>\n",
       "      <td>0.001335</td>\n",
       "      <td>0.012635</td>\n",
       "    </tr>\n",
       "    <tr>\n",
       "      <th>3</th>\n",
       "      <td>0</td>\n",
       "      <td>21</td>\n",
       "      <td>4</td>\n",
       "      <td>960</td>\n",
       "      <td>90</td>\n",
       "      <td>30</td>\n",
       "      <td>2821</td>\n",
       "      <td>0</td>\n",
       "      <td>0</td>\n",
       "      <td>1</td>\n",
       "      <td>...</td>\n",
       "      <td>0</td>\n",
       "      <td>1</td>\n",
       "      <td>0</td>\n",
       "      <td>0</td>\n",
       "      <td>0</td>\n",
       "      <td>0</td>\n",
       "      <td>0</td>\n",
       "      <td>0</td>\n",
       "      <td>0.000910</td>\n",
       "      <td>0.023984</td>\n",
       "    </tr>\n",
       "    <tr>\n",
       "      <th>4</th>\n",
       "      <td>2</td>\n",
       "      <td>20</td>\n",
       "      <td>3</td>\n",
       "      <td>300</td>\n",
       "      <td>250</td>\n",
       "      <td>50</td>\n",
       "      <td>3386</td>\n",
       "      <td>0</td>\n",
       "      <td>0</td>\n",
       "      <td>0</td>\n",
       "      <td>...</td>\n",
       "      <td>0</td>\n",
       "      <td>1</td>\n",
       "      <td>0</td>\n",
       "      <td>0</td>\n",
       "      <td>0</td>\n",
       "      <td>0</td>\n",
       "      <td>0</td>\n",
       "      <td>0</td>\n",
       "      <td>0.000722</td>\n",
       "      <td>0.012635</td>\n",
       "    </tr>\n",
       "  </tbody>\n",
       "</table>\n",
       "<p>5 rows × 100 columns</p>\n",
       "</div>"
      ],
      "text/plain": [
       "   weekday  hour  adexchange  slotwidth  slotheight  slotprice  advertiser  \\\n",
       "0        0    12           3        300         250         10        3427   \n",
       "1        3    14           0        320          50          5        2997   \n",
       "2        5    19           1        336         280          0        1458   \n",
       "3        0    21           4        960          90         30        2821   \n",
       "4        2    20           3        300         250         50        3386   \n",
       "\n",
       "   usertag_10024  usertag_10077  usertag_10075    ...     browser_firefox  \\\n",
       "0              1              1              1    ...                   0   \n",
       "1              0              0              0    ...                   0   \n",
       "2              1              0              0    ...                   0   \n",
       "3              0              0              1    ...                   0   \n",
       "4              0              0              0    ...                   0   \n",
       "\n",
       "   browser_ie  browser_maxthon  browser_opera  browser_other  browser_safari  \\\n",
       "0           0                0              0              0               0   \n",
       "1           0                0              0              0               1   \n",
       "2           1                0              0              0               0   \n",
       "3           1                0              0              0               0   \n",
       "4           1                0              0              0               0   \n",
       "\n",
       "   browser_sogou  browser_theworld    freq_c    freq_r  \n",
       "0              0                 0  0.004638  0.065971  \n",
       "1              0                 0  0.041582  0.041582  \n",
       "2              0                 0  0.001335  0.012635  \n",
       "3              0                 0  0.000910  0.023984  \n",
       "4              0                 0  0.000722  0.012635  \n",
       "\n",
       "[5 rows x 100 columns]"
      ]
     },
     "execution_count": 4,
     "metadata": {},
     "output_type": "execute_result"
    }
   ],
   "source": [
    "#test_data = test_data.drop(test_data.columns[[0]],axis =1)\n",
    "test_data= test_data.drop(['region','city','counts_r','counts_c','Unnamed: 0'],axis =1)\n",
    "test_data.head(5)"
   ]
  },
  {
   "cell_type": "code",
   "execution_count": 5,
   "metadata": {},
   "outputs": [
    {
     "data": {
      "text/html": [
       "<div>\n",
       "<style scoped>\n",
       "    .dataframe tbody tr th:only-of-type {\n",
       "        vertical-align: middle;\n",
       "    }\n",
       "\n",
       "    .dataframe tbody tr th {\n",
       "        vertical-align: top;\n",
       "    }\n",
       "\n",
       "    .dataframe thead th {\n",
       "        text-align: right;\n",
       "    }\n",
       "</style>\n",
       "<table border=\"1\" class=\"dataframe\">\n",
       "  <thead>\n",
       "    <tr style=\"text-align: right;\">\n",
       "      <th></th>\n",
       "      <th>weekday</th>\n",
       "      <th>hour</th>\n",
       "      <th>adexchange</th>\n",
       "      <th>slotwidth</th>\n",
       "      <th>slotheight</th>\n",
       "      <th>slotprice</th>\n",
       "      <th>bidprice</th>\n",
       "      <th>payprice</th>\n",
       "      <th>advertiser</th>\n",
       "      <th>click</th>\n",
       "      <th>...</th>\n",
       "      <th>browser_firefox</th>\n",
       "      <th>browser_ie</th>\n",
       "      <th>browser_maxthon</th>\n",
       "      <th>browser_opera</th>\n",
       "      <th>browser_other</th>\n",
       "      <th>browser_safari</th>\n",
       "      <th>browser_sogou</th>\n",
       "      <th>browser_theworld</th>\n",
       "      <th>freq_c</th>\n",
       "      <th>freq_r</th>\n",
       "    </tr>\n",
       "  </thead>\n",
       "  <tbody>\n",
       "    <tr>\n",
       "      <th>0</th>\n",
       "      <td>4</td>\n",
       "      <td>20</td>\n",
       "      <td>1</td>\n",
       "      <td>160</td>\n",
       "      <td>600</td>\n",
       "      <td>0</td>\n",
       "      <td>300</td>\n",
       "      <td>23</td>\n",
       "      <td>1458</td>\n",
       "      <td>0</td>\n",
       "      <td>...</td>\n",
       "      <td>0</td>\n",
       "      <td>1</td>\n",
       "      <td>0</td>\n",
       "      <td>0</td>\n",
       "      <td>0</td>\n",
       "      <td>0</td>\n",
       "      <td>0</td>\n",
       "      <td>0</td>\n",
       "      <td>0.026276</td>\n",
       "      <td>0.026276</td>\n",
       "    </tr>\n",
       "    <tr>\n",
       "      <th>1</th>\n",
       "      <td>1</td>\n",
       "      <td>21</td>\n",
       "      <td>1</td>\n",
       "      <td>950</td>\n",
       "      <td>90</td>\n",
       "      <td>0</td>\n",
       "      <td>238</td>\n",
       "      <td>75</td>\n",
       "      <td>3476</td>\n",
       "      <td>0</td>\n",
       "      <td>...</td>\n",
       "      <td>0</td>\n",
       "      <td>0</td>\n",
       "      <td>0</td>\n",
       "      <td>0</td>\n",
       "      <td>0</td>\n",
       "      <td>0</td>\n",
       "      <td>0</td>\n",
       "      <td>0</td>\n",
       "      <td>0.026276</td>\n",
       "      <td>0.026276</td>\n",
       "    </tr>\n",
       "    <tr>\n",
       "      <th>2</th>\n",
       "      <td>4</td>\n",
       "      <td>8</td>\n",
       "      <td>2</td>\n",
       "      <td>300</td>\n",
       "      <td>250</td>\n",
       "      <td>5</td>\n",
       "      <td>238</td>\n",
       "      <td>65</td>\n",
       "      <td>3358</td>\n",
       "      <td>0</td>\n",
       "      <td>...</td>\n",
       "      <td>0</td>\n",
       "      <td>1</td>\n",
       "      <td>0</td>\n",
       "      <td>0</td>\n",
       "      <td>0</td>\n",
       "      <td>0</td>\n",
       "      <td>0</td>\n",
       "      <td>0</td>\n",
       "      <td>0.014994</td>\n",
       "      <td>0.014994</td>\n",
       "    </tr>\n",
       "    <tr>\n",
       "      <th>3</th>\n",
       "      <td>5</td>\n",
       "      <td>15</td>\n",
       "      <td>2</td>\n",
       "      <td>336</td>\n",
       "      <td>280</td>\n",
       "      <td>5</td>\n",
       "      <td>238</td>\n",
       "      <td>6</td>\n",
       "      <td>3358</td>\n",
       "      <td>0</td>\n",
       "      <td>...</td>\n",
       "      <td>0</td>\n",
       "      <td>0</td>\n",
       "      <td>0</td>\n",
       "      <td>0</td>\n",
       "      <td>0</td>\n",
       "      <td>0</td>\n",
       "      <td>0</td>\n",
       "      <td>0</td>\n",
       "      <td>0.002172</td>\n",
       "      <td>0.027197</td>\n",
       "    </tr>\n",
       "    <tr>\n",
       "      <th>4</th>\n",
       "      <td>1</td>\n",
       "      <td>18</td>\n",
       "      <td>2</td>\n",
       "      <td>200</td>\n",
       "      <td>200</td>\n",
       "      <td>5</td>\n",
       "      <td>249</td>\n",
       "      <td>5</td>\n",
       "      <td>3476</td>\n",
       "      <td>0</td>\n",
       "      <td>...</td>\n",
       "      <td>0</td>\n",
       "      <td>0</td>\n",
       "      <td>0</td>\n",
       "      <td>0</td>\n",
       "      <td>0</td>\n",
       "      <td>0</td>\n",
       "      <td>0</td>\n",
       "      <td>0</td>\n",
       "      <td>0.005459</td>\n",
       "      <td>0.019347</td>\n",
       "    </tr>\n",
       "  </tbody>\n",
       "</table>\n",
       "<p>5 rows × 103 columns</p>\n",
       "</div>"
      ],
      "text/plain": [
       "   weekday  hour  adexchange  slotwidth  slotheight  slotprice  bidprice  \\\n",
       "0        4    20           1        160         600          0       300   \n",
       "1        1    21           1        950          90          0       238   \n",
       "2        4     8           2        300         250          5       238   \n",
       "3        5    15           2        336         280          5       238   \n",
       "4        1    18           2        200         200          5       249   \n",
       "\n",
       "   payprice  advertiser  click    ...     browser_firefox  browser_ie  \\\n",
       "0        23        1458      0    ...                   0           1   \n",
       "1        75        3476      0    ...                   0           0   \n",
       "2        65        3358      0    ...                   0           1   \n",
       "3         6        3358      0    ...                   0           0   \n",
       "4         5        3476      0    ...                   0           0   \n",
       "\n",
       "   browser_maxthon  browser_opera  browser_other  browser_safari  \\\n",
       "0                0              0              0               0   \n",
       "1                0              0              0               0   \n",
       "2                0              0              0               0   \n",
       "3                0              0              0               0   \n",
       "4                0              0              0               0   \n",
       "\n",
       "   browser_sogou  browser_theworld    freq_c    freq_r  \n",
       "0              0                 0  0.026276  0.026276  \n",
       "1              0                 0  0.026276  0.026276  \n",
       "2              0                 0  0.014994  0.014994  \n",
       "3              0                 0  0.002172  0.027197  \n",
       "4              0                 0  0.005459  0.019347  \n",
       "\n",
       "[5 rows x 103 columns]"
      ]
     },
     "execution_count": 5,
     "metadata": {},
     "output_type": "execute_result"
    }
   ],
   "source": [
    "#val_all = val_all.drop(val_all.columns[[0,1]],axis =1)\n",
    "val_all= val_all.drop(['region','city','counts_r','counts_c','Unnamed: 0','index'],axis =1)\n",
    "val_all.head(5)"
   ]
  },
  {
   "cell_type": "code",
   "execution_count": 6,
   "metadata": {},
   "outputs": [
    {
     "name": "stderr",
     "output_type": "stream",
     "text": [
      "/Users/jennyyang/anaconda3/lib/python3.6/site-packages/ipykernel_launcher.py:1: FutureWarning: '.reindex_axis' is deprecated and will be removed in a future version. Use '.reindex' instead.\n",
      "  \"\"\"Entry point for launching an IPython kernel.\n"
     ]
    },
    {
     "data": {
      "text/plain": [
       "(717200, 103)"
      ]
     },
     "execution_count": 6,
     "metadata": {},
     "output_type": "execute_result"
    }
   ],
   "source": [
    "train_all_1 = train_all.reindex_axis(sorted(train_all.columns), axis=1)\n",
    "#list(train_all_1)\n",
    "train_all_1.shape"
   ]
  },
  {
   "cell_type": "code",
   "execution_count": 7,
   "metadata": {},
   "outputs": [
    {
     "name": "stderr",
     "output_type": "stream",
     "text": [
      "/Users/jennyyang/anaconda3/lib/python3.6/site-packages/ipykernel_launcher.py:1: FutureWarning: '.reindex_axis' is deprecated and will be removed in a future version. Use '.reindex' instead.\n",
      "  \"\"\"Entry point for launching an IPython kernel.\n"
     ]
    },
    {
     "data": {
      "text/plain": [
       "(303375, 100)"
      ]
     },
     "execution_count": 7,
     "metadata": {},
     "output_type": "execute_result"
    }
   ],
   "source": [
    "test_data_1 = test_data.reindex_axis(sorted(test_data.columns), axis=1)\n",
    "#list(test_data_1)\n",
    "test_data_1.shape"
   ]
  },
  {
   "cell_type": "code",
   "execution_count": 8,
   "metadata": {},
   "outputs": [
    {
     "name": "stderr",
     "output_type": "stream",
     "text": [
      "/Users/jennyyang/anaconda3/lib/python3.6/site-packages/ipykernel_launcher.py:1: FutureWarning: '.reindex_axis' is deprecated and will be removed in a future version. Use '.reindex' instead.\n",
      "  \"\"\"Entry point for launching an IPython kernel.\n"
     ]
    },
    {
     "data": {
      "text/plain": [
       "(303925, 103)"
      ]
     },
     "execution_count": 8,
     "metadata": {},
     "output_type": "execute_result"
    }
   ],
   "source": [
    "val_all_1 = val_all.reindex_axis(sorted(val_all.columns), axis=1)\n",
    "#list(val_all_1)\n",
    "val_all_1.shape"
   ]
  },
  {
   "cell_type": "code",
   "execution_count": null,
   "metadata": {},
   "outputs": [],
   "source": []
  },
  {
   "cell_type": "markdown",
   "metadata": {},
   "source": [
    "## Split data"
   ]
  },
  {
   "cell_type": "code",
   "execution_count": 9,
   "metadata": {},
   "outputs": [
    {
     "name": "stdout",
     "output_type": "stream",
     "text": [
      "(717200,)\n",
      "(717200,)\n",
      "(717200, 100)\n",
      "(303925,)\n",
      "(303925,)\n",
      "(303925, 100)\n"
     ]
    }
   ],
   "source": [
    "#100 features\n",
    "train_y_ctr = train_all_1['click']\n",
    "train_y_wp = train_all_1['payprice']\n",
    "train_x = train_all_1.drop(['click','payprice','bidprice'],axis =1)\n",
    "test_y_ctr = val_all_1['click']\n",
    "test_y_wp = val_all_1['payprice']\n",
    "test_x = val_all_1.drop(['click','payprice','bidprice'],axis =1)\n",
    "\n",
    "print(train_y_ctr.shape)\n",
    "print(train_y_wp.shape)\n",
    "print(train_x.shape)\n",
    "print(test_y_ctr.shape)\n",
    "print(test_y_wp.shape)\n",
    "print(test_x.shape)"
   ]
  },
  {
   "cell_type": "markdown",
   "metadata": {},
   "source": [
    "# Models"
   ]
  },
  {
   "cell_type": "markdown",
   "metadata": {},
   "source": [
    "## Predict pCTR"
   ]
  },
  {
   "cell_type": "code",
   "execution_count": 10,
   "metadata": {},
   "outputs": [
    {
     "name": "stdout",
     "output_type": "stream",
     "text": [
      "MODEL 1 - Xgboost Classifier - pCTR\n",
      "score = 0.995255408407\n",
      "auc = 0.695846769316\n",
      "Running time = 203.63829040527344\n",
      "pCTR: \n",
      "[ 0.01810302  0.013336    0.01698269 ...,  0.05522097  0.03828786\n",
      "  0.04730557]\n"
     ]
    }
   ],
   "source": [
    "#\"MODEL 1 - Xgboost Classifier - clf_pCTR \"\n",
    "\n",
    "start = time.time()\n",
    "clf = XGBClassifier(learning_rate= 0.1, max_depth= 5, \n",
    "                    n_estimators = 100,\n",
    "                    gamma = 0,\n",
    "                      min_child_weight =7,\n",
    "                      colsample_bytree=0.6,\n",
    "                      subsample=0.95, reg_alpha = 0.03)\n",
    "clf_pCTR = clf.fit(train_x, train_y_ctr)\n",
    "prediction1 = np.array(clf_pCTR.predict(test_x))\n",
    "pCTR_m1 = clf_pCTR.predict_proba(test_x)  \n",
    "end = time.time()\n",
    "\n",
    "# AUC accuracy\n",
    "fpr, tpr, thresholds = metrics.roc_curve(test_y_ctr, prediction1)\n",
    "auc = metrics.auc(fpr, tpr)\n",
    "\n",
    "score = accuracy_score(test_y_ctr, prediction1)\n",
    "\n",
    "    \n",
    "print(\"MODEL 1 - Xgboost Classifier - pCTR\")\n",
    "print(\"score =\", score)\n",
    "print(\"auc =\", auc)\n",
    "#print (\"error_model_1 = \", 1-score)\n",
    "print(\"Running time =\", end - start)\n",
    "print(\"pCTR: \")\n",
    "print(pCTR_m1[:,1])\n"
   ]
  },
  {
   "cell_type": "code",
   "execution_count": 83,
   "metadata": {},
   "outputs": [],
   "source": [
    "clf_pCTR = pickle.dumps(clf_pCTR)"
   ]
  },
  {
   "cell_type": "code",
   "execution_count": 84,
   "metadata": {},
   "outputs": [],
   "source": [
    "clf_pCTR = pickle.loads(clf_pCTR)"
   ]
  },
  {
   "cell_type": "code",
   "execution_count": 16,
   "metadata": {},
   "outputs": [
    {
     "data": {
      "text/plain": [
       "array([ 0.01810302,  0.013336  ,  0.01698269, ...,  0.05522097,\n",
       "        0.03828786,  0.04730557], dtype=float32)"
      ]
     },
     "execution_count": 16,
     "metadata": {},
     "output_type": "execute_result"
    }
   ],
   "source": [
    "results_pCTR = pCTR_m1[:,1]\n",
    "results_pCTR"
   ]
  },
  {
   "cell_type": "code",
   "execution_count": 17,
   "metadata": {},
   "outputs": [
    {
     "data": {
      "text/html": [
       "<div>\n",
       "<style scoped>\n",
       "    .dataframe tbody tr th:only-of-type {\n",
       "        vertical-align: middle;\n",
       "    }\n",
       "\n",
       "    .dataframe tbody tr th {\n",
       "        vertical-align: top;\n",
       "    }\n",
       "\n",
       "    .dataframe thead th {\n",
       "        text-align: right;\n",
       "    }\n",
       "</style>\n",
       "<table border=\"1\" class=\"dataframe\">\n",
       "  <thead>\n",
       "    <tr style=\"text-align: right;\">\n",
       "      <th></th>\n",
       "      <th>pCTR</th>\n",
       "    </tr>\n",
       "  </thead>\n",
       "  <tbody>\n",
       "    <tr>\n",
       "      <th>0</th>\n",
       "      <td>0.018103</td>\n",
       "    </tr>\n",
       "    <tr>\n",
       "      <th>1</th>\n",
       "      <td>0.013336</td>\n",
       "    </tr>\n",
       "    <tr>\n",
       "      <th>2</th>\n",
       "      <td>0.016983</td>\n",
       "    </tr>\n",
       "    <tr>\n",
       "      <th>3</th>\n",
       "      <td>0.019592</td>\n",
       "    </tr>\n",
       "    <tr>\n",
       "      <th>4</th>\n",
       "      <td>0.009988</td>\n",
       "    </tr>\n",
       "  </tbody>\n",
       "</table>\n",
       "</div>"
      ],
      "text/plain": [
       "       pCTR\n",
       "0  0.018103\n",
       "1  0.013336\n",
       "2  0.016983\n",
       "3  0.019592\n",
       "4  0.009988"
      ]
     },
     "execution_count": 17,
     "metadata": {},
     "output_type": "execute_result"
    }
   ],
   "source": [
    "r_pCTR=pd.DataFrame(data =results_pCTR, columns=['pCTR'])\n",
    "r_pCTR.head(5)\n",
    "#r.shape"
   ]
  },
  {
   "cell_type": "code",
   "execution_count": 73,
   "metadata": {},
   "outputs": [],
   "source": [
    "def gen_pCTR (df):\n",
    "    pCTR_m1 = np.array(clf_pCTR.predict_proba(df))\n",
    "    results_pCTR = pCTR_m1[:,1]\n",
    "    r_pCTR=pd.DataFrame(data =results_pCTR, columns=['pCTR'])\n",
    "    return r_pCTR"
   ]
  },
  {
   "cell_type": "code",
   "execution_count": 74,
   "metadata": {},
   "outputs": [],
   "source": [
    "r_pCTR = gen_pCTR (test_data_1)"
   ]
  },
  {
   "cell_type": "code",
   "execution_count": null,
   "metadata": {},
   "outputs": [],
   "source": []
  },
  {
   "cell_type": "markdown",
   "metadata": {},
   "source": [
    "## Predict pWP"
   ]
  },
  {
   "cell_type": "code",
   "execution_count": 18,
   "metadata": {},
   "outputs": [
    {
     "name": "stdout",
     "output_type": "stream",
     "text": [
      "MODEL 2 - LR Classifier - clf2_pWP\n",
      "Running time = 184.30373811721802\n",
      "pWP: \n",
      "[  65.6975708    91.52745819   77.35237122 ...,  108.89304352   57.02135849\n",
      "   59.96221542]\n"
     ]
    }
   ],
   "source": [
    "#\"MODEL 2 - XGBRegressor() - clf2_pWP\"\n",
    "\n",
    "# Train and Predict\n",
    "start = time.time()\n",
    "#clf2_pWP = XGBClassifier()\n",
    "clf2_pWP = XGBRegressor()\n",
    "clf2_pWP.fit(train_x, train_y_wp)\n",
    "prediction2_wp = np.array(clf2_pWP.predict(test_x))\n",
    "rms = sqrt(mean_squared_error(test_y_wp, prediction2_wp))\n",
    "pWP_m6 = clf.predict_proba(test_x)  \n",
    "end = time.time()\n",
    "\n",
    "print(\"MODEL 2 - LR Classifier - clf2_pWP\")\n",
    "print(\"Running time =\", end - start)\n",
    "print(\"pWP: \")\n",
    "print(prediction2_wp)"
   ]
  },
  {
   "cell_type": "code",
   "execution_count": 85,
   "metadata": {},
   "outputs": [],
   "source": [
    "clf2_pWP = pickle.dumps(clf2_pWP)"
   ]
  },
  {
   "cell_type": "code",
   "execution_count": 86,
   "metadata": {},
   "outputs": [],
   "source": [
    "clf2_pWP = pickle.loads(clf2_pWP)"
   ]
  },
  {
   "cell_type": "code",
   "execution_count": 19,
   "metadata": {},
   "outputs": [
    {
     "data": {
      "text/html": [
       "<div>\n",
       "<style scoped>\n",
       "    .dataframe tbody tr th:only-of-type {\n",
       "        vertical-align: middle;\n",
       "    }\n",
       "\n",
       "    .dataframe tbody tr th {\n",
       "        vertical-align: top;\n",
       "    }\n",
       "\n",
       "    .dataframe thead th {\n",
       "        text-align: right;\n",
       "    }\n",
       "</style>\n",
       "<table border=\"1\" class=\"dataframe\">\n",
       "  <thead>\n",
       "    <tr style=\"text-align: right;\">\n",
       "      <th></th>\n",
       "      <th>pWP</th>\n",
       "    </tr>\n",
       "  </thead>\n",
       "  <tbody>\n",
       "    <tr>\n",
       "      <th>0</th>\n",
       "      <td>65.697571</td>\n",
       "    </tr>\n",
       "    <tr>\n",
       "      <th>1</th>\n",
       "      <td>91.527458</td>\n",
       "    </tr>\n",
       "    <tr>\n",
       "      <th>2</th>\n",
       "      <td>77.352371</td>\n",
       "    </tr>\n",
       "    <tr>\n",
       "      <th>3</th>\n",
       "      <td>59.052113</td>\n",
       "    </tr>\n",
       "    <tr>\n",
       "      <th>4</th>\n",
       "      <td>57.523701</td>\n",
       "    </tr>\n",
       "  </tbody>\n",
       "</table>\n",
       "</div>"
      ],
      "text/plain": [
       "         pWP\n",
       "0  65.697571\n",
       "1  91.527458\n",
       "2  77.352371\n",
       "3  59.052113\n",
       "4  57.523701"
      ]
     },
     "execution_count": 19,
     "metadata": {},
     "output_type": "execute_result"
    }
   ],
   "source": [
    "r_pWP = pd.DataFrame(data = prediction2_wp, columns=['pWP'])\n",
    "r_pWP.head(5)"
   ]
  },
  {
   "cell_type": "code",
   "execution_count": 71,
   "metadata": {},
   "outputs": [],
   "source": [
    "def gen_pWP (df):\n",
    "    prediction2_wp = np.array(clf2_pWP.predict(df))\n",
    "    r_pWP = pd.DataFrame(data = prediction2_wp, columns=['pWP'])\n",
    "    return r_pWP"
   ]
  },
  {
   "cell_type": "code",
   "execution_count": 72,
   "metadata": {},
   "outputs": [],
   "source": [
    "r_pWP = gen_pWP(test_data_1)"
   ]
  },
  {
   "cell_type": "markdown",
   "metadata": {},
   "source": [
    "## Merge results"
   ]
  },
  {
   "cell_type": "code",
   "execution_count": 20,
   "metadata": {},
   "outputs": [],
   "source": [
    "def comb (df, r_pCTR, r_pWP):\n",
    "    data_comb = df.reset_index()\n",
    "    data_comb = data_comb.drop(data_comb.columns[[0]], axis=1)\n",
    "    print('test_comb: ', data_comb.shape)\n",
    "    print('r_pCTR:', r_pCTR.shape)\n",
    "    print('r_pWP:' ,r_pWP.shape)\n",
    "    data_comb= pd.concat([data_comb, r_pWP], axis = 1)\n",
    "    data_comb= pd.concat([data_comb, r_pCTR], axis = 1)\n",
    "    print('new test_comb: ',data_comb.shape)\n",
    "    return data_comb"
   ]
  },
  {
   "cell_type": "code",
   "execution_count": 21,
   "metadata": {},
   "outputs": [
    {
     "name": "stdout",
     "output_type": "stream",
     "text": [
      "test_comb:  (303925, 103)\n",
      "r_pCTR: (303925, 1)\n",
      "r_pWP: (303925, 1)\n",
      "new test_comb:  (303925, 105)\n"
     ]
    }
   ],
   "source": [
    "val_comb = comb (val_all_1, r_pCTR, r_pWP)"
   ]
  },
  {
   "cell_type": "code",
   "execution_count": 75,
   "metadata": {},
   "outputs": [
    {
     "name": "stdout",
     "output_type": "stream",
     "text": [
      "test_comb:  (303375, 100)\n",
      "r_pCTR: (303375, 1)\n",
      "r_pWP: (303375, 1)\n",
      "new test_comb:  (303375, 102)\n"
     ]
    }
   ],
   "source": [
    "test_comb = comb (test_data_1, r_pCTR, r_pWP)"
   ]
  },
  {
   "cell_type": "markdown",
   "metadata": {},
   "source": [
    "## Calculate Rho"
   ]
  },
  {
   "cell_type": "code",
   "execution_count": 24,
   "metadata": {},
   "outputs": [
    {
     "data": {
      "text/plain": [
       "(303925, 106)"
      ]
     },
     "execution_count": 24,
     "metadata": {},
     "output_type": "execute_result"
    }
   ],
   "source": [
    "val_comb['Rho']= val_comb['pCTR']/val_comb['pWP']\n",
    "val_comb.shape"
   ]
  },
  {
   "cell_type": "code",
   "execution_count": 78,
   "metadata": {},
   "outputs": [
    {
     "data": {
      "text/plain": [
       "(303375, 103)"
      ]
     },
     "execution_count": 78,
     "metadata": {},
     "output_type": "execute_result"
    }
   ],
   "source": [
    "test_comb['Rho']= test_comb['pCTR']/test_comb['pWP']\n",
    "test_comb.shape"
   ]
  },
  {
   "cell_type": "code",
   "execution_count": 79,
   "metadata": {},
   "outputs": [
    {
     "data": {
      "text/plain": [
       "0    1.721414\n",
       "1    3.111351\n",
       "2    0.187286\n",
       "3    1.687714\n",
       "4    0.837441\n",
       "Name: Rho, dtype: float32"
      ]
     },
     "execution_count": 79,
     "metadata": {},
     "output_type": "execute_result"
    }
   ],
   "source": [
    "test_comb['Rho'] = test_comb['Rho'] * 1000\n",
    "test_comb['Rho'].head(5)"
   ]
  },
  {
   "cell_type": "code",
   "execution_count": 25,
   "metadata": {},
   "outputs": [
    {
     "data": {
      "text/plain": [
       "0    0.275551\n",
       "1    0.145705\n",
       "2    0.219550\n",
       "3    0.331771\n",
       "4    0.173629\n",
       "Name: Rho, dtype: float32"
      ]
     },
     "execution_count": 25,
     "metadata": {},
     "output_type": "execute_result"
    }
   ],
   "source": [
    "val_comb['Rho'] = val_comb['Rho'] * 1000\n",
    "val_comb['Rho'].head(5)"
   ]
  },
  {
   "cell_type": "code",
   "execution_count": 26,
   "metadata": {},
   "outputs": [
    {
     "data": {
      "image/png": "iVBORw0KGgoAAAANSUhEUgAAAXcAAAEKCAYAAADpfBXhAAAABHNCSVQICAgIfAhkiAAAAAlwSFlz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\nRU5ErkJggg==\n",
      "text/plain": [
       "<matplotlib.figure.Figure at 0x115348e80>"
      ]
     },
     "metadata": {},
     "output_type": "display_data"
    }
   ],
   "source": [
    "import seaborn as sns\n",
    "sns.distplot(less_25, bins = 500)\n",
    "plt.show()"
   ]
  },
  {
   "cell_type": "code",
   "execution_count": 27,
   "metadata": {},
   "outputs": [
    {
     "data": {
      "image/png": "iVBORw0KGgoAAAANSUhEUgAAAXQAAAEKCAYAAAACS67iAAAABHNCSVQICAgIfAhkiAAAAAlwSFlz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\nXUTEJRToIiIuoUAXEXEJBbqIiEv8PyTW090N3ZrcAAAAAElFTkSuQmCC\n",
      "text/plain": [
       "<matplotlib.figure.Figure at 0x13d2c3438>"
      ]
     },
     "metadata": {},
     "output_type": "display_data"
    }
   ],
   "source": [
    "q_75 = val_comb['Rho'].quantile(0.75)\n",
    "q_25 = val_comb['Rho'].quantile(0.25)\n",
    "less_25 = val_comb['Rho'][val_comb['Rho'] <= q_25]\n",
    "sns.distplot(less_25, bins = 500)\n",
    "plt.show()"
   ]
  },
  {
   "cell_type": "code",
   "execution_count": 28,
   "metadata": {},
   "outputs": [
    {
     "data": {
      "image/png": "iVBORw0KGgoAAAANSUhEUgAAAYQAAAD8CAYAAAB3u9PLAAAABHNCSVQICAgIfAhkiAAAAAlwSFlz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\n",
      "text/plain": [
       "<matplotlib.figure.Figure at 0x1ea21fd30>"
      ]
     },
     "metadata": {},
     "output_type": "display_data"
    }
   ],
   "source": [
    "sns.distplot(val_comb['bidprice']-val_comb['payprice'])\n",
    "plt.show()"
   ]
  },
  {
   "cell_type": "markdown",
   "metadata": {},
   "source": [
    "## Function: check clicks"
   ]
  },
  {
   "cell_type": "code",
   "execution_count": 29,
   "metadata": {},
   "outputs": [],
   "source": [
    "#B_curr=6250000\n",
    "\n",
    "def test_clicks (df, E_Rho, B_curr, min_inc):\n",
    "    i = 0\n",
    "    c = 0\n",
    "    s = 0\n",
    "    b = 0\n",
    "    while (B_curr > 0) and (i < len(df)):\n",
    "        if (df['Rho'].iloc[i] < E_Rho): \n",
    "            i += 1\n",
    "        elif (df['payprice'].iloc[i] > B_curr):\n",
    "            i += 1\n",
    "        elif (df['pWP'].iloc[i] < df['slotprice'].iloc[i]):\n",
    "            i += 1\n",
    "        elif ((df['pWP'].iloc[i] + min_inc) < df['bidprice'].iloc[i]):\n",
    "            i += 1  \n",
    "        else: \n",
    "            B_curr -= df['payprice'].iloc[i]\n",
    "            c += df['click'].iloc[i]\n",
    "            b += 1\n",
    "            s += df['payprice'].iloc[i]\n",
    "            i += 1\n",
    "            #print(i, c, s, B_curr)\n",
    "    return c, s, b"
   ]
  },
  {
   "cell_type": "code",
   "execution_count": null,
   "metadata": {},
   "outputs": [],
   "source": []
  },
  {
   "cell_type": "markdown",
   "metadata": {},
   "source": [
    "## Find optimal Rho"
   ]
  },
  {
   "cell_type": "code",
   "execution_count": 30,
   "metadata": {},
   "outputs": [
    {
     "data": {
      "text/plain": [
       "(202, 106)"
      ]
     },
     "execution_count": 30,
     "metadata": {},
     "output_type": "execute_result"
    }
   ],
   "source": [
    "val_comb_1=val_comb[val_comb['click']==1]\n",
    "val_comb_1.shape"
   ]
  },
  {
   "cell_type": "code",
   "execution_count": 31,
   "metadata": {},
   "outputs": [
    {
     "name": "stdout",
     "output_type": "stream",
     "text": [
      "Rho_avg:  0.7293069958686829\n",
      "Rho_med:  0.47073841094970703\n",
      "Rho1_avg:  5.463656425476074\n",
      "Rho1_med:  3.305744171142578\n",
      "Rho1_min:  0.213741\n",
      "Rho1_max:  23.8784\n",
      "Rho1_q25:  1.12327441573143\n"
     ]
    }
   ],
   "source": [
    "Rho = val_comb['Rho']\n",
    "Rho_avg = Rho.mean()\n",
    "print('Rho_avg: ', Rho_avg)\n",
    "Rho_med = Rho.median()\n",
    "print('Rho_med: ',Rho_med)\n",
    "\n",
    "Rho1 = val_comb_1['Rho']\n",
    "Rho1_avg = Rho1.mean()\n",
    "print('Rho1_avg: ',Rho1_avg)\n",
    "Rho1_med = Rho1.median()\n",
    "print('Rho1_med: ',Rho1_med)\n",
    "Rho1_min = Rho1.min()\n",
    "print('Rho1_min: ',Rho1_min)\n",
    "Rho1_max = Rho1.max()\n",
    "print('Rho1_max: ',Rho1_max)\n",
    "Rho1_q25 = Rho1.quantile(0.25)\n",
    "print('Rho1_q25: ',Rho1_q25)"
   ]
  },
  {
   "cell_type": "code",
   "execution_count": 42,
   "metadata": {},
   "outputs": [
    {
     "data": {
      "image/png": "iVBORw0KGgoAAAANSUhEUgAAAXcAAAEKCAYAAADpfBXhAAAABHNCSVQICAgIfAhkiAAAAAlwSFlz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\n",
      "text/plain": [
       "<matplotlib.figure.Figure at 0x13b4545f8>"
      ]
     },
     "metadata": {},
     "output_type": "display_data"
    }
   ],
   "source": [
    "r1_q25 = val_comb_1['Rho'][val_comb_1['Rho'] <= Rho1_q25]\n",
    "sns.distplot(r1_q25, bins = 50)\n",
    "plt.show()\n"
   ]
  },
  {
   "cell_type": "code",
   "execution_count": 67,
   "metadata": {},
   "outputs": [
    {
     "name": "stdout",
     "output_type": "stream",
     "text": [
      "[  65.   75.   94.  125.  146.  162.  154.  152.  155.  136.] [ 6250000.  6250000.  6250000.  6250000.  6250000.  5555105.  4320771.\n",
      "  3689607.  3287341.  2439442.] [ 6250000.  6250000.  6250000.  6250000.  6250000.  5555105.  4320771.\n",
      "  3689607.  3287341.  2439442.    31651.]\n"
     ]
    }
   ],
   "source": [
    "import random\n",
    "\n",
    "df = val_comb\n",
    "\n",
    "#j = 0\n",
    "clicks =[]\n",
    "spends=[]\n",
    "bids = []\n",
    "J=[]\n",
    "j=0.25\n",
    "\n",
    "while j < 1.2: \n",
    "    min_inc = random.sample(range(235,275), 1)\n",
    "    c, s, b = test_clicks(df, j, 6250000,min_inc)\n",
    "    clicks = np.append(clicks,c)\n",
    "    spends = np.append(spends,s)\n",
    "    bids = np.append(spends,b)\n",
    "    J = np.append(J,j)\n",
    "    j +=0.1\n",
    "\n",
    "print(clicks, spends, bids)"
   ]
  },
  {
   "cell_type": "code",
   "execution_count": 68,
   "metadata": {},
   "outputs": [
    {
     "data": {
      "text/html": [
       "<div>\n",
       "<style scoped>\n",
       "    .dataframe tbody tr th:only-of-type {\n",
       "        vertical-align: middle;\n",
       "    }\n",
       "\n",
       "    .dataframe tbody tr th {\n",
       "        vertical-align: top;\n",
       "    }\n",
       "\n",
       "    .dataframe thead th {\n",
       "        text-align: right;\n",
       "    }\n",
       "</style>\n",
       "<table border=\"1\" class=\"dataframe\">\n",
       "  <thead>\n",
       "    <tr style=\"text-align: right;\">\n",
       "      <th></th>\n",
       "      <th>Rho_threshold</th>\n",
       "      <th>Clicks</th>\n",
       "    </tr>\n",
       "  </thead>\n",
       "  <tbody>\n",
       "    <tr>\n",
       "      <th>0</th>\n",
       "      <td>0.25</td>\n",
       "      <td>65.0</td>\n",
       "    </tr>\n",
       "    <tr>\n",
       "      <th>1</th>\n",
       "      <td>0.35</td>\n",
       "      <td>75.0</td>\n",
       "    </tr>\n",
       "    <tr>\n",
       "      <th>2</th>\n",
       "      <td>0.45</td>\n",
       "      <td>94.0</td>\n",
       "    </tr>\n",
       "    <tr>\n",
       "      <th>3</th>\n",
       "      <td>0.55</td>\n",
       "      <td>125.0</td>\n",
       "    </tr>\n",
       "    <tr>\n",
       "      <th>4</th>\n",
       "      <td>0.65</td>\n",
       "      <td>146.0</td>\n",
       "    </tr>\n",
       "    <tr>\n",
       "      <th>5</th>\n",
       "      <td>0.75</td>\n",
       "      <td>162.0</td>\n",
       "    </tr>\n",
       "    <tr>\n",
       "      <th>6</th>\n",
       "      <td>0.85</td>\n",
       "      <td>154.0</td>\n",
       "    </tr>\n",
       "    <tr>\n",
       "      <th>7</th>\n",
       "      <td>0.95</td>\n",
       "      <td>152.0</td>\n",
       "    </tr>\n",
       "    <tr>\n",
       "      <th>8</th>\n",
       "      <td>1.05</td>\n",
       "      <td>155.0</td>\n",
       "    </tr>\n",
       "    <tr>\n",
       "      <th>9</th>\n",
       "      <td>1.15</td>\n",
       "      <td>136.0</td>\n",
       "    </tr>\n",
       "  </tbody>\n",
       "</table>\n",
       "</div>"
      ],
      "text/plain": [
       "   Rho_threshold  Clicks\n",
       "0           0.25    65.0\n",
       "1           0.35    75.0\n",
       "2           0.45    94.0\n",
       "3           0.55   125.0\n",
       "4           0.65   146.0\n",
       "5           0.75   162.0\n",
       "6           0.85   154.0\n",
       "7           0.95   152.0\n",
       "8           1.05   155.0\n",
       "9           1.15   136.0"
      ]
     },
     "execution_count": 68,
     "metadata": {},
     "output_type": "execute_result"
    }
   ],
   "source": [
    "df_C = pd.DataFrame(data =clicks,columns=['Clicks'] )\n",
    "df_J = pd.DataFrame(data =J,columns=['Rho_threshold'] )\n",
    "df_T = pd.concat([df_J,df_C],axis = 1)\n",
    "df_T"
   ]
  },
  {
   "cell_type": "code",
   "execution_count": 69,
   "metadata": {},
   "outputs": [
    {
     "data": {
      "image/png": "iVBORw0KGgoAAAANSUhEUgAAAXoAAAD8CAYAAAB5Pm/hAAAABHNCSVQICAgIfAhkiAAAAAlwSFlz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\nJMip6EVEgtz/BwiG8Cm5mj4oAAAAAElFTkSuQmCC\n",
      "text/plain": [
       "<matplotlib.figure.Figure at 0x13b49fef0>"
      ]
     },
     "metadata": {},
     "output_type": "display_data"
    }
   ],
   "source": [
    "plt.plot(df_T ['Rho_threshold'],  df_T ['Clicks']) \n",
    "plt.show()"
   ]
  },
  {
   "cell_type": "code",
   "execution_count": 70,
   "metadata": {},
   "outputs": [
    {
     "name": "stderr",
     "output_type": "stream",
     "text": [
      "/Users/jennyyang/anaconda3/lib/python3.6/site-packages/numpy/core/fromnumeric.py:57: FutureWarning: 'argmax' is deprecated. Use 'idxmax' instead. The behavior of 'argmax' will be corrected to return the positional maximum in the future. Use 'series.values.argmax' to get the position of the maximum now.\n",
      "  return getattr(obj, method)(*args, **kwds)\n"
     ]
    },
    {
     "data": {
      "text/plain": [
       "0.75"
      ]
     },
     "execution_count": 70,
     "metadata": {},
     "output_type": "execute_result"
    }
   ],
   "source": [
    "Rho_min = np.argmax(df_T ['Clicks'])*0.1+0.25\n",
    "Rho_min "
   ]
  },
  {
   "cell_type": "markdown",
   "metadata": {},
   "source": [
    "## Find optimal bidding increment "
   ]
  },
  {
   "cell_type": "code",
   "execution_count": 60,
   "metadata": {},
   "outputs": [
    {
     "name": "stdout",
     "output_type": "stream",
     "text": [
      "[ 160.  160.  160.  161.  161.  162.  162.  162.  162.  162.  162.  165.\n",
      "  165.  166.  166.  166.  166.  166.  167.  168.  169.  169.  170.  170.\n",
      "  170.  170.  170.  170.  170.  170.  170.  170.  170.  170.  170.  170.\n",
      "  170.  170.  170.  170.  170.] [ 5301544.  5330348.  5354376.  5396573.  5439530.  5478489.  5497175.\n",
      "  5517600.  5536640.  5555105.  5580454.  5611095.  5646625.  5673093.\n",
      "  5687083.  5693915.  5701726.  5711605.  5728343.  5749689.  5774413.\n",
      "  5819462.  5850797.  5886606.  5907232.  5921919.  5929217.  5931876.\n",
      "  5933866.  5935446.  5937911.  5939231.  5939431.  5939691.  5939751.\n",
      "  5939751.  5939751.  5939751.  5939751.  5939751.  5939751.] [ 5301544.  5330348.  5354376.  5396573.  5439530.  5478489.  5497175.\n",
      "  5517600.  5536640.  5555105.  5580454.  5611095.  5646625.  5673093.\n",
      "  5687083.  5693915.  5701726.  5711605.  5728343.  5749689.  5774413.\n",
      "  5819462.  5850797.  5886606.  5907232.  5921919.  5929217.  5931876.\n",
      "  5933866.  5935446.  5937911.  5939231.  5939431.  5939691.  5939751.\n",
      "  5939751.  5939751.  5939751.  5939751.  5939751.  5939751.    84842.]\n"
     ]
    }
   ],
   "source": [
    "#j = 0\n",
    "clicks =[]\n",
    "spends=[]\n",
    "bids=[]\n",
    "M=[]\n",
    "m=240\n",
    "\n",
    "while m <= 280: \n",
    "    c, s, b = test_clicks(val_comb, 0.75, 6250000,m)\n",
    "    clicks = np.append(clicks,c)\n",
    "    spends = np.append(spends,s)\n",
    "    bids = np.append(spends,b)\n",
    "    M = np.append(M,m)\n",
    "    m +=1\n",
    "\n",
    "print(clicks, spends, bids)"
   ]
  },
  {
   "cell_type": "code",
   "execution_count": 61,
   "metadata": {},
   "outputs": [
    {
     "data": {
      "text/html": [
       "<div>\n",
       "<style scoped>\n",
       "    .dataframe tbody tr th:only-of-type {\n",
       "        vertical-align: middle;\n",
       "    }\n",
       "\n",
       "    .dataframe tbody tr th {\n",
       "        vertical-align: top;\n",
       "    }\n",
       "\n",
       "    .dataframe thead th {\n",
       "        text-align: right;\n",
       "    }\n",
       "</style>\n",
       "<table border=\"1\" class=\"dataframe\">\n",
       "  <thead>\n",
       "    <tr style=\"text-align: right;\">\n",
       "      <th></th>\n",
       "      <th>Min_increment</th>\n",
       "      <th>Clicks</th>\n",
       "    </tr>\n",
       "  </thead>\n",
       "  <tbody>\n",
       "    <tr>\n",
       "      <th>0</th>\n",
       "      <td>240.0</td>\n",
       "      <td>160.0</td>\n",
       "    </tr>\n",
       "    <tr>\n",
       "      <th>1</th>\n",
       "      <td>241.0</td>\n",
       "      <td>160.0</td>\n",
       "    </tr>\n",
       "    <tr>\n",
       "      <th>2</th>\n",
       "      <td>242.0</td>\n",
       "      <td>160.0</td>\n",
       "    </tr>\n",
       "    <tr>\n",
       "      <th>3</th>\n",
       "      <td>243.0</td>\n",
       "      <td>161.0</td>\n",
       "    </tr>\n",
       "    <tr>\n",
       "      <th>4</th>\n",
       "      <td>244.0</td>\n",
       "      <td>161.0</td>\n",
       "    </tr>\n",
       "  </tbody>\n",
       "</table>\n",
       "</div>"
      ],
      "text/plain": [
       "   Min_increment  Clicks\n",
       "0          240.0   160.0\n",
       "1          241.0   160.0\n",
       "2          242.0   160.0\n",
       "3          243.0   161.0\n",
       "4          244.0   161.0"
      ]
     },
     "execution_count": 61,
     "metadata": {},
     "output_type": "execute_result"
    }
   ],
   "source": [
    "df_C = pd.DataFrame(data =clicks,columns=['Clicks'] )\n",
    "df_M = pd.DataFrame(data =M,columns=['Min_increment'] )\n",
    "df_T = pd.concat([df_M,df_C],axis = 1)\n",
    "df_T.head(5)"
   ]
  },
  {
   "cell_type": "code",
   "execution_count": 62,
   "metadata": {},
   "outputs": [
    {
     "data": {
      "image/png": "iVBORw0KGgoAAAANSUhEUgAAAXoAAAD8CAYAAAB5Pm/hAAAABHNCSVQICAgIfAhkiAAAAAlwSFlz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\nAABJRU5ErkJggg==\n",
      "text/plain": [
       "<matplotlib.figure.Figure at 0x13b7ae710>"
      ]
     },
     "metadata": {},
     "output_type": "display_data"
    }
   ],
   "source": [
    "plt.plot(df_T ['Min_increment'],  df_T ['Clicks']) \n",
    "plt.show()"
   ]
  },
  {
   "cell_type": "code",
   "execution_count": 63,
   "metadata": {},
   "outputs": [
    {
     "name": "stderr",
     "output_type": "stream",
     "text": [
      "/Users/jennyyang/anaconda3/lib/python3.6/site-packages/numpy/core/fromnumeric.py:57: FutureWarning: 'argmax' is deprecated. Use 'idxmax' instead. The behavior of 'argmax' will be corrected to return the positional maximum in the future. Use 'series.values.argmax' to get the position of the maximum now.\n",
      "  return getattr(obj, method)(*args, **kwds)\n"
     ]
    },
    {
     "data": {
      "text/plain": [
       "262"
      ]
     },
     "execution_count": 63,
     "metadata": {},
     "output_type": "execute_result"
    }
   ],
   "source": [
    "Inc_max = np.argmax(df_T ['Clicks'])+240\n",
    "Inc_max "
   ]
  },
  {
   "cell_type": "code",
   "execution_count": null,
   "metadata": {},
   "outputs": [],
   "source": []
  },
  {
   "cell_type": "code",
   "execution_count": 64,
   "metadata": {},
   "outputs": [
    {
     "data": {
      "text/plain": [
       "(170, 5850797, 81099)"
      ]
     },
     "execution_count": 64,
     "metadata": {},
     "output_type": "execute_result"
    }
   ],
   "source": [
    "test_clicks(val_comb, 0.75, 6250000,262)"
   ]
  },
  {
   "cell_type": "code",
   "execution_count": null,
   "metadata": {},
   "outputs": [],
   "source": []
  },
  {
   "cell_type": "code",
   "execution_count": null,
   "metadata": {},
   "outputs": [],
   "source": []
  },
  {
   "cell_type": "markdown",
   "metadata": {},
   "source": [
    "## Final Bidding Price "
   ]
  },
  
