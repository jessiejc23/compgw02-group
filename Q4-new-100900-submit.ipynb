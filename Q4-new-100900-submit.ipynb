{
 "cells": [
  {
   "cell_type": "code",
   "execution_count": 65,
   "metadata": {},
   "outputs": [],
   "source": [
    "import pandas as pd\n",
    "import numpy as np\n",
    "from sklearn.tree import DecisionTreeClassifier\n",
    "from sklearn.model_selection import train_test_split\n",
    "import time \n",
    "from sklearn.metrics import accuracy_score\n",
    "from sklearn.metrics import precision_recall_fscore_support\n",
    "from itertools import cycle\n",
    "from sklearn.metrics import roc_curve, auc\n",
    "from sklearn.model_selection import train_test_split\n",
    "from sklearn import metrics\n",
    "#from sklearn.model_selection import KFold\n",
    "#from sklearn.ensemble import AdaBoostClassifier\n",
    "#from sklearn.multiclass import OneVsRestClassifier\n",
    "#from sklearn.ensemble import BaggingClassifier\n",
    "#from sklearn.ensemble import ExtraTreesClassifier\n",
    "from xgboost import XGBClassifier\n",
    "from xgboost import XGBRegressor\n",
    "from sklearn.linear_model import LogisticRegression\n",
    "import seaborn as sns\n",
    "import matplotlib.pyplot as plt"
   ]
  },
  {
   "cell_type": "markdown",
   "metadata": {},
   "source": [
    "## All Data"
   ]
  },
  {
   "cell_type": "code",
   "execution_count": 66,
   "metadata": {},
   "outputs": [],
   "source": [
    "#train_all = pd.read_csv('train0_one5th.csv')\n",
    "#train_all = pd.read_csv('train5050.csv')\n",
    "#train_all = pd.read_csv('train1040.csv')\n",
    "train_all = pd.read_csv('train100900.csv')\n",
    "#train_all = pd.read_csv('train005995.csv')\n",
    "test_data = pd.read_csv('test_full.csv')\n",
    "val_all = pd.read_csv('val_full.csv')"
   ]
  },
  {
   "cell_type": "code",
   "execution_count": 67,
   "metadata": {},
   "outputs": [
    {
     "data": {
      "text/html": [
       "<div>\n",
       "<style scoped>\n",
       "    .dataframe tbody tr th:only-of-type {\n",
       "        vertical-align: middle;\n",
       "    }\n",
       "\n",
       "    .dataframe tbody tr th {\n",
       "        vertical-align: top;\n",
       "    }\n",
       "\n",
       "    .dataframe thead th {\n",
       "        text-align: right;\n",
       "    }\n",
       "</style>\n",
       "<table border=\"1\" class=\"dataframe\">\n",
       "  <thead>\n",
       "    <tr style=\"text-align: right;\">\n",
       "      <th></th>\n",
       "      <th>click</th>\n",
       "      <th>weekday</th>\n",
       "      <th>hour</th>\n",
       "      <th>adexchange</th>\n",
       "      <th>slotwidth</th>\n",
       "      <th>slotheight</th>\n",
       "      <th>slotprice</th>\n",
       "      <th>advertiser</th>\n",
       "      <th>usertag_0</th>\n",
       "      <th>usertag_10052</th>\n",
       "      <th>...</th>\n",
       "      <th>browser_maxthon</th>\n",
       "      <th>browser_opera</th>\n",
       "      <th>browser_other</th>\n",
       "      <th>browser_safari</th>\n",
       "      <th>browser_sogou</th>\n",
       "      <th>browser_theworld</th>\n",
       "      <th>bidprice</th>\n",
       "      <th>payprice</th>\n",
       "      <th>freq_c</th>\n",
       "      <th>freq_r</th>\n",
       "    </tr>\n",
       "  </thead>\n",
       "  <tbody>\n",
       "    <tr>\n",
       "      <th>0</th>\n",
       "      <td>0</td>\n",
       "      <td>3</td>\n",
       "      <td>21</td>\n",
       "      <td>2</td>\n",
       "      <td>300</td>\n",
       "      <td>250</td>\n",
       "      <td>5</td>\n",
       "      <td>3386</td>\n",
       "      <td>0</td>\n",
       "      <td>0</td>\n",
       "      <td>...</td>\n",
       "      <td>0</td>\n",
       "      <td>0</td>\n",
       "      <td>0</td>\n",
       "      <td>0</td>\n",
       "      <td>0</td>\n",
       "      <td>0</td>\n",
       "      <td>300</td>\n",
       "      <td>14</td>\n",
       "      <td>0.001344</td>\n",
       "      <td>0.033467</td>\n",
       "    </tr>\n",
       "    <tr>\n",
       "      <th>1</th>\n",
       "      <td>0</td>\n",
       "      <td>5</td>\n",
       "      <td>1</td>\n",
       "      <td>1</td>\n",
       "      <td>950</td>\n",
       "      <td>90</td>\n",
       "      <td>0</td>\n",
       "      <td>3427</td>\n",
       "      <td>1</td>\n",
       "      <td>0</td>\n",
       "      <td>...</td>\n",
       "      <td>0</td>\n",
       "      <td>0</td>\n",
       "      <td>0</td>\n",
       "      <td>0</td>\n",
       "      <td>0</td>\n",
       "      <td>0</td>\n",
       "      <td>227</td>\n",
       "      <td>74</td>\n",
       "      <td>0.001258</td>\n",
       "      <td>0.029835</td>\n",
       "    </tr>\n",
       "    <tr>\n",
       "      <th>2</th>\n",
       "      <td>0</td>\n",
       "      <td>5</td>\n",
       "      <td>7</td>\n",
       "      <td>3</td>\n",
       "      <td>1000</td>\n",
       "      <td>90</td>\n",
       "      <td>70</td>\n",
       "      <td>3476</td>\n",
       "      <td>0</td>\n",
       "      <td>0</td>\n",
       "      <td>...</td>\n",
       "      <td>0</td>\n",
       "      <td>0</td>\n",
       "      <td>0</td>\n",
       "      <td>0</td>\n",
       "      <td>0</td>\n",
       "      <td>0</td>\n",
       "      <td>254</td>\n",
       "      <td>73</td>\n",
       "      <td>0.001286</td>\n",
       "      <td>0.044469</td>\n",
       "    </tr>\n",
       "    <tr>\n",
       "      <th>3</th>\n",
       "      <td>0</td>\n",
       "      <td>1</td>\n",
       "      <td>1</td>\n",
       "      <td>2</td>\n",
       "      <td>728</td>\n",
       "      <td>90</td>\n",
       "      <td>52</td>\n",
       "      <td>2821</td>\n",
       "      <td>1</td>\n",
       "      <td>0</td>\n",
       "      <td>...</td>\n",
       "      <td>0</td>\n",
       "      <td>0</td>\n",
       "      <td>0</td>\n",
       "      <td>0</td>\n",
       "      <td>0</td>\n",
       "      <td>0</td>\n",
       "      <td>277</td>\n",
       "      <td>52</td>\n",
       "      <td>0.001983</td>\n",
       "      <td>0.044469</td>\n",
       "    </tr>\n",
       "    <tr>\n",
       "      <th>4</th>\n",
       "      <td>0</td>\n",
       "      <td>2</td>\n",
       "      <td>17</td>\n",
       "      <td>1</td>\n",
       "      <td>300</td>\n",
       "      <td>250</td>\n",
       "      <td>0</td>\n",
       "      <td>3386</td>\n",
       "      <td>1</td>\n",
       "      <td>0</td>\n",
       "      <td>...</td>\n",
       "      <td>0</td>\n",
       "      <td>0</td>\n",
       "      <td>0</td>\n",
       "      <td>1</td>\n",
       "      <td>0</td>\n",
       "      <td>0</td>\n",
       "      <td>300</td>\n",
       "      <td>47</td>\n",
       "      <td>0.001750</td>\n",
       "      <td>0.012885</td>\n",
       "    </tr>\n",
       "  </tbody>\n",
       "</table>\n",
       "<p>5 rows × 103 columns</p>\n",
       "</div>"
      ],
      "text/plain": [
       "   click  weekday  hour  adexchange  slotwidth  slotheight  slotprice  \\\n",
       "0      0        3    21           2        300         250          5   \n",
       "1      0        5     1           1        950          90          0   \n",
       "2      0        5     7           3       1000          90         70   \n",
       "3      0        1     1           2        728          90         52   \n",
       "4      0        2    17           1        300         250          0   \n",
       "\n",
       "   advertiser  usertag_0  usertag_10052    ...     browser_maxthon  \\\n",
       "0        3386          0              0    ...                   0   \n",
       "1        3427          1              0    ...                   0   \n",
       "2        3476          0              0    ...                   0   \n",
       "3        2821          1              0    ...                   0   \n",
       "4        3386          1              0    ...                   0   \n",
       "\n",
       "   browser_opera  browser_other  browser_safari  browser_sogou  \\\n",
       "0              0              0               0              0   \n",
       "1              0              0               0              0   \n",
       "2              0              0               0              0   \n",
       "3              0              0               0              0   \n",
       "4              0              0               1              0   \n",
       "\n",
       "   browser_theworld  bidprice  payprice    freq_c    freq_r  \n",
       "0                 0       300        14  0.001344  0.033467  \n",
       "1                 0       227        74  0.001258  0.029835  \n",
       "2                 0       254        73  0.001286  0.044469  \n",
       "3                 0       277        52  0.001983  0.044469  \n",
       "4                 0       300        47  0.001750  0.012885  \n",
       "\n",
       "[5 rows x 103 columns]"
      ]
     },
     "execution_count": 67,
     "metadata": {},
     "output_type": "execute_result"
    }
   ],
   "source": [
    "#train_all = train_all.drop(train_all.columns[[0,1]],axis =1)\n",
    "train_all= train_all.drop(['region','city','counts_r','counts_c','Unnamed: 0','index'],axis =1)\n",
    "train_all.head(5)"
   ]
  },
  {
   "cell_type": "code",
   "execution_count": 68,
   "metadata": {},
   "outputs": [
    {
     "data": {
      "text/html": [
       "<div>\n",
       "<style scoped>\n",
       "    .dataframe tbody tr th:only-of-type {\n",
       "        vertical-align: middle;\n",
       "    }\n",
       "\n",
       "    .dataframe tbody tr th {\n",
       "        vertical-align: top;\n",
       "    }\n",
       "\n",
       "    .dataframe thead th {\n",
       "        text-align: right;\n",
       "    }\n",
       "</style>\n",
       "<table border=\"1\" class=\"dataframe\">\n",
       "  <thead>\n",
       "    <tr style=\"text-align: right;\">\n",
       "      <th></th>\n",
       "      <th>weekday</th>\n",
       "      <th>hour</th>\n",
       "      <th>adexchange</th>\n",
       "      <th>slotwidth</th>\n",
       "      <th>slotheight</th>\n",
       "      <th>slotprice</th>\n",
       "      <th>advertiser</th>\n",
       "      <th>usertag_10024</th>\n",
       "      <th>usertag_10077</th>\n",
       "      <th>usertag_10075</th>\n",
       "      <th>...</th>\n",
       "      <th>browser_firefox</th>\n",
       "      <th>browser_ie</th>\n",
       "      <th>browser_maxthon</th>\n",
       "      <th>browser_opera</th>\n",
       "      <th>browser_other</th>\n",
       "      <th>browser_safari</th>\n",
       "      <th>browser_sogou</th>\n",
       "      <th>browser_theworld</th>\n",
       "      <th>freq_c</th>\n",
       "      <th>freq_r</th>\n",
       "    </tr>\n",
       "  </thead>\n",
       "  <tbody>\n",
       "    <tr>\n",
       "      <th>0</th>\n",
       "      <td>0</td>\n",
       "      <td>12</td>\n",
       "      <td>3</td>\n",
       "      <td>300</td>\n",
       "      <td>250</td>\n",
       "      <td>10</td>\n",
       "      <td>3427</td>\n",
       "      <td>1</td>\n",
       "      <td>1</td>\n",
       "      <td>1</td>\n",
       "      <td>...</td>\n",
       "      <td>0</td>\n",
       "      <td>0</td>\n",
       "      <td>0</td>\n",
       "      <td>0</td>\n",
       "      <td>0</td>\n",
       "      <td>0</td>\n",
       "      <td>0</td>\n",
       "      <td>0</td>\n",
       "      <td>0.004638</td>\n",
       "      <td>0.065971</td>\n",
       "    </tr>\n",
       "    <tr>\n",
       "      <th>1</th>\n",
       "      <td>3</td>\n",
       "      <td>14</td>\n",
       "      <td>0</td>\n",
       "      <td>320</td>\n",
       "      <td>50</td>\n",
       "      <td>5</td>\n",
       "      <td>2997</td>\n",
       "      <td>0</td>\n",
       "      <td>0</td>\n",
       "      <td>0</td>\n",
       "      <td>...</td>\n",
       "      <td>0</td>\n",
       "      <td>0</td>\n",
       "      <td>0</td>\n",
       "      <td>0</td>\n",
       "      <td>0</td>\n",
       "      <td>1</td>\n",
       "      <td>0</td>\n",
       "      <td>0</td>\n",
       "      <td>0.041582</td>\n",
       "      <td>0.041582</td>\n",
       "    </tr>\n",
       "    <tr>\n",
       "      <th>2</th>\n",
       "      <td>5</td>\n",
       "      <td>19</td>\n",
       "      <td>1</td>\n",
       "      <td>336</td>\n",
       "      <td>280</td>\n",
       "      <td>0</td>\n",
       "      <td>1458</td>\n",
       "      <td>1</td>\n",
       "      <td>0</td>\n",
       "      <td>0</td>\n",
       "      <td>...</td>\n",
       "      <td>0</td>\n",
       "      <td>1</td>\n",
       "      <td>0</td>\n",
       "      <td>0</td>\n",
       "      <td>0</td>\n",
       "      <td>0</td>\n",
       "      <td>0</td>\n",
       "      <td>0</td>\n",
       "      <td>0.001335</td>\n",
       "      <td>0.012635</td>\n",
       "    </tr>\n",
       "    <tr>\n",
       "      <th>3</th>\n",
       "      <td>0</td>\n",
       "      <td>21</td>\n",
       "      <td>4</td>\n",
       "      <td>960</td>\n",
       "      <td>90</td>\n",
       "      <td>30</td>\n",
       "      <td>2821</td>\n",
       "      <td>0</td>\n",
       "      <td>0</td>\n",
       "      <td>1</td>\n",
       "      <td>...</td>\n",
       "      <td>0</td>\n",
       "      <td>1</td>\n",
       "      <td>0</td>\n",
       "      <td>0</td>\n",
       "      <td>0</td>\n",
       "      <td>0</td>\n",
       "      <td>0</td>\n",
       "      <td>0</td>\n",
       "      <td>0.000910</td>\n",
       "      <td>0.023984</td>\n",
       "    </tr>\n",
       "    <tr>\n",
       "      <th>4</th>\n",
       "      <td>2</td>\n",
       "      <td>20</td>\n",
       "      <td>3</td>\n",
       "      <td>300</td>\n",
       "      <td>250</td>\n",
       "      <td>50</td>\n",
       "      <td>3386</td>\n",
       "      <td>0</td>\n",
       "      <td>0</td>\n",
       "      <td>0</td>\n",
       "      <td>...</td>\n",
       "      <td>0</td>\n",
       "      <td>1</td>\n",
       "      <td>0</td>\n",
       "      <td>0</td>\n",
       "      <td>0</td>\n",
       "      <td>0</td>\n",
       "      <td>0</td>\n",
       "      <td>0</td>\n",
       "      <td>0.000722</td>\n",
       "      <td>0.012635</td>\n",
       "    </tr>\n",
       "  </tbody>\n",
       "</table>\n",
       "<p>5 rows × 100 columns</p>\n",
       "</div>"
      ],
      "text/plain": [
       "   weekday  hour  adexchange  slotwidth  slotheight  slotprice  advertiser  \\\n",
       "0        0    12           3        300         250         10        3427   \n",
       "1        3    14           0        320          50          5        2997   \n",
       "2        5    19           1        336         280          0        1458   \n",
       "3        0    21           4        960          90         30        2821   \n",
       "4        2    20           3        300         250         50        3386   \n",
       "\n",
       "   usertag_10024  usertag_10077  usertag_10075    ...     browser_firefox  \\\n",
       "0              1              1              1    ...                   0   \n",
       "1              0              0              0    ...                   0   \n",
       "2              1              0              0    ...                   0   \n",
       "3              0              0              1    ...                   0   \n",
       "4              0              0              0    ...                   0   \n",
       "\n",
       "   browser_ie  browser_maxthon  browser_opera  browser_other  browser_safari  \\\n",
       "0           0                0              0              0               0   \n",
       "1           0                0              0              0               1   \n",
       "2           1                0              0              0               0   \n",
       "3           1                0              0              0               0   \n",
       "4           1                0              0              0               0   \n",
       "\n",
       "   browser_sogou  browser_theworld    freq_c    freq_r  \n",
       "0              0                 0  0.004638  0.065971  \n",
       "1              0                 0  0.041582  0.041582  \n",
       "2              0                 0  0.001335  0.012635  \n",
       "3              0                 0  0.000910  0.023984  \n",
       "4              0                 0  0.000722  0.012635  \n",
       "\n",
       "[5 rows x 100 columns]"
      ]
     },
     "execution_count": 68,
     "metadata": {},
     "output_type": "execute_result"
    }
   ],
   "source": [
    "#test_data = test_data.drop(test_data.columns[[0]],axis =1)\n",
    "test_data= test_data.drop(['region','city','counts_r','counts_c','Unnamed: 0'],axis =1)\n",
    "test_data.head(5)"
   ]
  },
  {
   "cell_type": "code",
   "execution_count": 69,
   "metadata": {},
   "outputs": [
    {
     "data": {
      "text/html": [
       "<div>\n",
       "<style scoped>\n",
       "    .dataframe tbody tr th:only-of-type {\n",
       "        vertical-align: middle;\n",
       "    }\n",
       "\n",
       "    .dataframe tbody tr th {\n",
       "        vertical-align: top;\n",
       "    }\n",
       "\n",
       "    .dataframe thead th {\n",
       "        text-align: right;\n",
       "    }\n",
       "</style>\n",
       "<table border=\"1\" class=\"dataframe\">\n",
       "  <thead>\n",
       "    <tr style=\"text-align: right;\">\n",
       "      <th></th>\n",
       "      <th>weekday</th>\n",
       "      <th>hour</th>\n",
       "      <th>adexchange</th>\n",
       "      <th>slotwidth</th>\n",
       "      <th>slotheight</th>\n",
       "      <th>slotprice</th>\n",
       "      <th>bidprice</th>\n",
       "      <th>payprice</th>\n",
       "      <th>advertiser</th>\n",
       "      <th>click</th>\n",
       "      <th>...</th>\n",
       "      <th>browser_firefox</th>\n",
       "      <th>browser_ie</th>\n",
       "      <th>browser_maxthon</th>\n",
       "      <th>browser_opera</th>\n",
       "      <th>browser_other</th>\n",
       "      <th>browser_safari</th>\n",
       "      <th>browser_sogou</th>\n",
       "      <th>browser_theworld</th>\n",
       "      <th>freq_c</th>\n",
       "      <th>freq_r</th>\n",
       "    </tr>\n",
       "  </thead>\n",
       "  <tbody>\n",
       "    <tr>\n",
       "      <th>0</th>\n",
       "      <td>4</td>\n",
       "      <td>20</td>\n",
       "      <td>1</td>\n",
       "      <td>160</td>\n",
       "      <td>600</td>\n",
       "      <td>0</td>\n",
       "      <td>300</td>\n",
       "      <td>23</td>\n",
       "      <td>1458</td>\n",
       "      <td>0</td>\n",
       "      <td>...</td>\n",
       "      <td>0</td>\n",
       "      <td>1</td>\n",
       "      <td>0</td>\n",
       "      <td>0</td>\n",
       "      <td>0</td>\n",
       "      <td>0</td>\n",
       "      <td>0</td>\n",
       "      <td>0</td>\n",
       "      <td>0.026276</td>\n",
       "      <td>0.026276</td>\n",
       "    </tr>\n",
       "    <tr>\n",
       "      <th>1</th>\n",
       "      <td>1</td>\n",
       "      <td>21</td>\n",
       "      <td>1</td>\n",
       "      <td>950</td>\n",
       "      <td>90</td>\n",
       "      <td>0</td>\n",
       "      <td>238</td>\n",
       "      <td>75</td>\n",
       "      <td>3476</td>\n",
       "      <td>0</td>\n",
       "      <td>...</td>\n",
       "      <td>0</td>\n",
       "      <td>0</td>\n",
       "      <td>0</td>\n",
       "      <td>0</td>\n",
       "      <td>0</td>\n",
       "      <td>0</td>\n",
       "      <td>0</td>\n",
       "      <td>0</td>\n",
       "      <td>0.026276</td>\n",
       "      <td>0.026276</td>\n",
       "    </tr>\n",
       "    <tr>\n",
       "      <th>2</th>\n",
       "      <td>4</td>\n",
       "      <td>8</td>\n",
       "      <td>2</td>\n",
       "      <td>300</td>\n",
       "      <td>250</td>\n",
       "      <td>5</td>\n",
       "      <td>238</td>\n",
       "      <td>65</td>\n",
       "      <td>3358</td>\n",
       "      <td>0</td>\n",
       "      <td>...</td>\n",
       "      <td>0</td>\n",
       "      <td>1</td>\n",
       "      <td>0</td>\n",
       "      <td>0</td>\n",
       "      <td>0</td>\n",
       "      <td>0</td>\n",
       "      <td>0</td>\n",
       "      <td>0</td>\n",
       "      <td>0.014994</td>\n",
       "      <td>0.014994</td>\n",
       "    </tr>\n",
       "    <tr>\n",
       "      <th>3</th>\n",
       "      <td>5</td>\n",
       "      <td>15</td>\n",
       "      <td>2</td>\n",
       "      <td>336</td>\n",
       "      <td>280</td>\n",
       "      <td>5</td>\n",
       "      <td>238</td>\n",
       "      <td>6</td>\n",
       "      <td>3358</td>\n",
       "      <td>0</td>\n",
       "      <td>...</td>\n",
       "      <td>0</td>\n",
       "      <td>0</td>\n",
       "      <td>0</td>\n",
       "      <td>0</td>\n",
       "      <td>0</td>\n",
       "      <td>0</td>\n",
       "      <td>0</td>\n",
       "      <td>0</td>\n",
       "      <td>0.002172</td>\n",
       "      <td>0.027197</td>\n",
       "    </tr>\n",
       "    <tr>\n",
       "      <th>4</th>\n",
       "      <td>1</td>\n",
       "      <td>18</td>\n",
       "      <td>2</td>\n",
       "      <td>200</td>\n",
       "      <td>200</td>\n",
       "      <td>5</td>\n",
       "      <td>249</td>\n",
       "      <td>5</td>\n",
       "      <td>3476</td>\n",
       "      <td>0</td>\n",
       "      <td>...</td>\n",
       "      <td>0</td>\n",
       "      <td>0</td>\n",
       "      <td>0</td>\n",
       "      <td>0</td>\n",
       "      <td>0</td>\n",
       "      <td>0</td>\n",
       "      <td>0</td>\n",
       "      <td>0</td>\n",
       "      <td>0.005459</td>\n",
       "      <td>0.019347</td>\n",
       "    </tr>\n",
       "  </tbody>\n",
       "</table>\n",
       "<p>5 rows × 103 columns</p>\n",
       "</div>"
      ],
      "text/plain": [
       "   weekday  hour  adexchange  slotwidth  slotheight  slotprice  bidprice  \\\n",
       "0        4    20           1        160         600          0       300   \n",
       "1        1    21           1        950          90          0       238   \n",
       "2        4     8           2        300         250          5       238   \n",
       "3        5    15           2        336         280          5       238   \n",
       "4        1    18           2        200         200          5       249   \n",
       "\n",
       "   payprice  advertiser  click    ...     browser_firefox  browser_ie  \\\n",
       "0        23        1458      0    ...                   0           1   \n",
       "1        75        3476      0    ...                   0           0   \n",
       "2        65        3358      0    ...                   0           1   \n",
       "3         6        3358      0    ...                   0           0   \n",
       "4         5        3476      0    ...                   0           0   \n",
       "\n",
       "   browser_maxthon  browser_opera  browser_other  browser_safari  \\\n",
       "0                0              0              0               0   \n",
       "1                0              0              0               0   \n",
       "2                0              0              0               0   \n",
       "3                0              0              0               0   \n",
       "4                0              0              0               0   \n",
       "\n",
       "   browser_sogou  browser_theworld    freq_c    freq_r  \n",
       "0              0                 0  0.026276  0.026276  \n",
       "1              0                 0  0.026276  0.026276  \n",
       "2              0                 0  0.014994  0.014994  \n",
       "3              0                 0  0.002172  0.027197  \n",
       "4              0                 0  0.005459  0.019347  \n",
       "\n",
       "[5 rows x 103 columns]"
      ]
     },
     "execution_count": 69,
     "metadata": {},
     "output_type": "execute_result"
    }
   ],
   "source": [
    "#val_all = val_all.drop(val_all.columns[[0,1]],axis =1)\n",
    "val_all= val_all.drop(['region','city','counts_r','counts_c','Unnamed: 0','index'],axis =1)\n",
    "val_all.head(5)"
   ]
  },
  {
   "cell_type": "code",
   "execution_count": 70,
   "metadata": {},
   "outputs": [
    {
     "name": "stderr",
     "output_type": "stream",
     "text": [
      "/Users/jennyyang/anaconda3/lib/python3.6/site-packages/ipykernel_launcher.py:1: FutureWarning: '.reindex_axis' is deprecated and will be removed in a future version. Use '.reindex' instead.\n",
      "  \"\"\"Entry point for launching an IPython kernel.\n"
     ]
    },
    {
     "data": {
      "text/plain": [
       "(717200, 103)"
      ]
     },
     "execution_count": 70,
     "metadata": {},
     "output_type": "execute_result"
    }
   ],
   "source": [
    "train_all_1 = train_all.reindex_axis(sorted(train_all.columns), axis=1)\n",
    "#list(train_all_1)\n",
    "train_all_1.shape"
   ]
  },
  {
   "cell_type": "code",
   "execution_count": 71,
   "metadata": {},
   "outputs": [
    {
     "name": "stderr",
     "output_type": "stream",
     "text": [
      "/Users/jennyyang/anaconda3/lib/python3.6/site-packages/ipykernel_launcher.py:1: FutureWarning: '.reindex_axis' is deprecated and will be removed in a future version. Use '.reindex' instead.\n",
      "  \"\"\"Entry point for launching an IPython kernel.\n"
     ]
    },
    {
     "data": {
      "text/plain": [
       "(303375, 100)"
      ]
     },
     "execution_count": 71,
     "metadata": {},
     "output_type": "execute_result"
    }
   ],
   "source": [
    "test_data_1 = test_data.reindex_axis(sorted(test_data.columns), axis=1)\n",
    "#list(test_data_1)\n",
    "test_data_1.shape"
   ]
  },
  {
   "cell_type": "code",
   "execution_count": 72,
   "metadata": {},
   "outputs": [
    {
     "name": "stderr",
     "output_type": "stream",
     "text": [
      "/Users/jennyyang/anaconda3/lib/python3.6/site-packages/ipykernel_launcher.py:1: FutureWarning: '.reindex_axis' is deprecated and will be removed in a future version. Use '.reindex' instead.\n",
      "  \"\"\"Entry point for launching an IPython kernel.\n"
     ]
    },
    {
     "data": {
      "text/plain": [
       "(303925, 103)"
      ]
     },
     "execution_count": 72,
     "metadata": {},
     "output_type": "execute_result"
    }
   ],
   "source": [
    "val_all_1 = val_all.reindex_axis(sorted(val_all.columns), axis=1)\n",
    "#list(val_all_1)\n",
    "val_all_1.shape"
   ]
  },
  {
   "cell_type": "code",
   "execution_count": null,
   "metadata": {},
   "outputs": [],
   "source": []
  },
  {
   "cell_type": "markdown",
   "metadata": {},
   "source": [
    "## Split data"
   ]
  },
  {
   "cell_type": "code",
   "execution_count": 73,
   "metadata": {},
   "outputs": [
    {
     "name": "stdout",
     "output_type": "stream",
     "text": [
      "(717200,)\n",
      "(717200,)\n",
      "(717200, 100)\n",
      "(303925,)\n",
      "(303925,)\n",
      "(303925, 100)\n"
     ]
    }
   ],
   "source": [
    "#100 features\n",
    "train_y_ctr = train_all_1['click']\n",
    "train_y_wp = train_all_1['payprice']\n",
    "train_x = train_all_1.drop(['click','payprice','bidprice'],axis =1)\n",
    "test_y_ctr = val_all_1['click']\n",
    "test_y_wp = val_all_1['payprice']\n",
    "test_x = val_all_1.drop(['click','payprice','bidprice'],axis =1)\n",
    "\n",
    "print(train_y_ctr.shape)\n",
    "print(train_y_wp.shape)\n",
    "print(train_x.shape)\n",
    "print(test_y_ctr.shape)\n",
    "print(test_y_wp.shape)\n",
    "print(test_x.shape)"
   ]
  },
  {
   "cell_type": "markdown",
   "metadata": {},
   "source": [
    "# Models"
   ]
  },
  {
   "cell_type": "markdown",
   "metadata": {},
   "source": [
    "## Predict pCTR"
   ]
  },
  {
   "cell_type": "code",
   "execution_count": 74,
   "metadata": {},
   "outputs": [
    {
     "name": "stdout",
     "output_type": "stream",
     "text": [
      "MODEL 1 - Xgboost Classifier - pCTR\n",
      "score = 0.995255408407\n",
      "auc = 0.695846769316\n",
      "Running time = 191.05632424354553\n",
      "pCTR: \n",
      "[ 0.01810302  0.013336    0.01698269 ...,  0.05522097  0.03828786\n",
      "  0.04730557]\n"
     ]
    }
   ],
   "source": [
    "#\"MODEL 1 - Xgboost Classifier - clf_pCTR \"\n",
    "\n",
    "start = time.time()\n",
    "clf = XGBClassifier(learning_rate= 0.1, max_depth= 5, \n",
    "                    n_estimators = 100,\n",
    "                    gamma = 0,\n",
    "                      min_child_weight =7,\n",
    "                      colsample_bytree=0.6,\n",
    "                      subsample=0.95, reg_alpha = 0.03)\n",
    "clf_pCTR = clf.fit(train_x, train_y_ctr)\n",
    "prediction1 = np.array(clf_pCTR.predict(test_x))\n",
    "pCTR_m1 = clf_pCTR.predict_proba(test_x)  \n",
    "end = time.time()\n",
    "\n",
    "# AUC accuracy\n",
    "fpr, tpr, thresholds = metrics.roc_curve(test_y_ctr, prediction1)\n",
    "auc = metrics.auc(fpr, tpr)\n",
    "\n",
    "score = accuracy_score(test_y_ctr, prediction1)\n",
    "\n",
    "    \n",
    "print(\"MODEL 1 - Xgboost Classifier - pCTR\")\n",
    "print(\"score =\", score)\n",
    "print(\"auc =\", auc)\n",
    "#print (\"error_model_1 = \", 1-score)\n",
    "print(\"Running time =\", end - start)\n",
    "print(\"pCTR: \")\n",
    "print(pCTR_m1[:,1])\n"
   ]
  },
  {
   "cell_type": "code",
   "execution_count": 75,
   "metadata": {},
   "outputs": [
    {
     "data": {
      "text/plain": [
       "array([ 0.01810302,  0.013336  ,  0.01698269, ...,  0.05522097,\n",
       "        0.03828786,  0.04730557], dtype=float32)"
      ]
     },
     "execution_count": 75,
     "metadata": {},
     "output_type": "execute_result"
    }
   ],
   "source": [
    "results_pCTR = pCTR_m1[:,1]\n",
    "results_pCTR"
   ]
  },
  {
   "cell_type": "code",
   "execution_count": 76,
   "metadata": {},
   "outputs": [
    {
     "data": {
      "text/html": [
       "<div>\n",
       "<style scoped>\n",
       "    .dataframe tbody tr th:only-of-type {\n",
       "        vertical-align: middle;\n",
       "    }\n",
       "\n",
       "    .dataframe tbody tr th {\n",
       "        vertical-align: top;\n",
       "    }\n",
       "\n",
       "    .dataframe thead th {\n",
       "        text-align: right;\n",
       "    }\n",
       "</style>\n",
       "<table border=\"1\" class=\"dataframe\">\n",
       "  <thead>\n",
       "    <tr style=\"text-align: right;\">\n",
       "      <th></th>\n",
       "      <th>pCTR</th>\n",
       "    </tr>\n",
       "  </thead>\n",
       "  <tbody>\n",
       "    <tr>\n",
       "      <th>0</th>\n",
       "      <td>0.018103</td>\n",
       "    </tr>\n",
       "    <tr>\n",
       "      <th>1</th>\n",
       "      <td>0.013336</td>\n",
       "    </tr>\n",
       "    <tr>\n",
       "      <th>2</th>\n",
       "      <td>0.016983</td>\n",
       "    </tr>\n",
       "    <tr>\n",
       "      <th>3</th>\n",
       "      <td>0.019592</td>\n",
       "    </tr>\n",
       "    <tr>\n",
       "      <th>4</th>\n",
       "      <td>0.009988</td>\n",
       "    </tr>\n",
       "  </tbody>\n",
       "</table>\n",
       "</div>"
      ],
      "text/plain": [
       "       pCTR\n",
       "0  0.018103\n",
       "1  0.013336\n",
       "2  0.016983\n",
       "3  0.019592\n",
       "4  0.009988"
      ]
     },
     "execution_count": 76,
     "metadata": {},
     "output_type": "execute_result"
    }
   ],
   "source": [
    "r_pCTR=pd.DataFrame(data =results_pCTR, columns=['pCTR'])\n",
    "r_pCTR.head(5)\n",
    "#r.shape"
   ]
  },
  {
   "cell_type": "code",
   "execution_count": 13,
   "metadata": {},
   "outputs": [],
   "source": [
    "r_pCTR.to_csv('pCTR_xgboost.csv')"
   ]
  },
  {
   "cell_type": "code",
   "execution_count": 47,
   "metadata": {},
   "outputs": [],
   "source": [
    "def gen_pCTR (df):\n",
    "    pCTR_m1 = np.array(clf_pCTR.predict_proba(df))\n",
    "    results_pCTR = pCTR_m1[:,1]\n",
    "    r_pCTR=pd.DataFrame(data =results_pCTR, columns=['pCTR'])\n",
    "    return r_pCTR"
   ]
  },
  {
   "cell_type": "code",
   "execution_count": 115,
   "metadata": {},
   "outputs": [],
   "source": [
    "r_pCTR = gen_pCTR (val_test)"
   ]
  },
  {
   "cell_type": "code",
   "execution_count": 171,
   "metadata": {},
   "outputs": [
    {
     "data": {
      "text/html": [
       "<div>\n",
       "<style scoped>\n",
       "    .dataframe tbody tr th:only-of-type {\n",
       "        vertical-align: middle;\n",
       "    }\n",
       "\n",
       "    .dataframe tbody tr th {\n",
       "        vertical-align: top;\n",
       "    }\n",
       "\n",
       "    .dataframe thead th {\n",
       "        text-align: right;\n",
       "    }\n",
       "</style>\n",
       "<table border=\"1\" class=\"dataframe\">\n",
       "  <thead>\n",
       "    <tr style=\"text-align: right;\">\n",
       "      <th></th>\n",
       "      <th>pCTR</th>\n",
       "    </tr>\n",
       "  </thead>\n",
       "  <tbody>\n",
       "    <tr>\n",
       "      <th>0</th>\n",
       "      <td>0.101232</td>\n",
       "    </tr>\n",
       "    <tr>\n",
       "      <th>1</th>\n",
       "      <td>0.323774</td>\n",
       "    </tr>\n",
       "    <tr>\n",
       "      <th>2</th>\n",
       "      <td>0.022959</td>\n",
       "    </tr>\n",
       "    <tr>\n",
       "      <th>3</th>\n",
       "      <td>0.123400</td>\n",
       "    </tr>\n",
       "    <tr>\n",
       "      <th>4</th>\n",
       "      <td>0.059699</td>\n",
       "    </tr>\n",
       "    <tr>\n",
       "      <th>5</th>\n",
       "      <td>0.050582</td>\n",
       "    </tr>\n",
       "    <tr>\n",
       "      <th>6</th>\n",
       "      <td>0.035995</td>\n",
       "    </tr>\n",
       "    <tr>\n",
       "      <th>7</th>\n",
       "      <td>0.086464</td>\n",
       "    </tr>\n",
       "    <tr>\n",
       "      <th>8</th>\n",
       "      <td>0.076653</td>\n",
       "    </tr>\n",
       "    <tr>\n",
       "      <th>9</th>\n",
       "      <td>0.078304</td>\n",
       "    </tr>\n",
       "    <tr>\n",
       "      <th>10</th>\n",
       "      <td>0.034556</td>\n",
       "    </tr>\n",
       "    <tr>\n",
       "      <th>11</th>\n",
       "      <td>0.240537</td>\n",
       "    </tr>\n",
       "    <tr>\n",
       "      <th>12</th>\n",
       "      <td>0.117317</td>\n",
       "    </tr>\n",
       "    <tr>\n",
       "      <th>13</th>\n",
       "      <td>0.039609</td>\n",
       "    </tr>\n",
       "    <tr>\n",
       "      <th>14</th>\n",
       "      <td>0.093409</td>\n",
       "    </tr>\n",
       "    <tr>\n",
       "      <th>15</th>\n",
       "      <td>0.041056</td>\n",
       "    </tr>\n",
       "    <tr>\n",
       "      <th>16</th>\n",
       "      <td>0.046634</td>\n",
       "    </tr>\n",
       "    <tr>\n",
       "      <th>17</th>\n",
       "      <td>0.033570</td>\n",
       "    </tr>\n",
       "    <tr>\n",
       "      <th>18</th>\n",
       "      <td>0.039559</td>\n",
       "    </tr>\n",
       "    <tr>\n",
       "      <th>19</th>\n",
       "      <td>0.045521</td>\n",
       "    </tr>\n",
       "    <tr>\n",
       "      <th>20</th>\n",
       "      <td>0.034242</td>\n",
       "    </tr>\n",
       "    <tr>\n",
       "      <th>21</th>\n",
       "      <td>0.102189</td>\n",
       "    </tr>\n",
       "    <tr>\n",
       "      <th>22</th>\n",
       "      <td>0.041394</td>\n",
       "    </tr>\n",
       "    <tr>\n",
       "      <th>23</th>\n",
       "      <td>0.038271</td>\n",
       "    </tr>\n",
       "    <tr>\n",
       "      <th>24</th>\n",
       "      <td>0.020775</td>\n",
       "    </tr>\n",
       "    <tr>\n",
       "      <th>25</th>\n",
       "      <td>0.108167</td>\n",
       "    </tr>\n",
       "    <tr>\n",
       "      <th>26</th>\n",
       "      <td>0.025269</td>\n",
       "    </tr>\n",
       "    <tr>\n",
       "      <th>27</th>\n",
       "      <td>0.072258</td>\n",
       "    </tr>\n",
       "    <tr>\n",
       "      <th>28</th>\n",
       "      <td>0.037510</td>\n",
       "    </tr>\n",
       "    <tr>\n",
       "      <th>29</th>\n",
       "      <td>0.025456</td>\n",
       "    </tr>\n",
       "    <tr>\n",
       "      <th>...</th>\n",
       "      <td>...</td>\n",
       "    </tr>\n",
       "    <tr>\n",
       "      <th>303345</th>\n",
       "      <td>0.067831</td>\n",
       "    </tr>\n",
       "    <tr>\n",
       "      <th>303346</th>\n",
       "      <td>0.064857</td>\n",
       "    </tr>\n",
       "    <tr>\n",
       "      <th>303347</th>\n",
       "      <td>0.040856</td>\n",
       "    </tr>\n",
       "    <tr>\n",
       "      <th>303348</th>\n",
       "      <td>0.030598</td>\n",
       "    </tr>\n",
       "    <tr>\n",
       "      <th>303349</th>\n",
       "      <td>0.049693</td>\n",
       "    </tr>\n",
       "    <tr>\n",
       "      <th>303350</th>\n",
       "      <td>0.036204</td>\n",
       "    </tr>\n",
       "    <tr>\n",
       "      <th>303351</th>\n",
       "      <td>0.112371</td>\n",
       "    </tr>\n",
       "    <tr>\n",
       "      <th>303352</th>\n",
       "      <td>0.119069</td>\n",
       "    </tr>\n",
       "    <tr>\n",
       "      <th>303353</th>\n",
       "      <td>0.220055</td>\n",
       "    </tr>\n",
       "    <tr>\n",
       "      <th>303354</th>\n",
       "      <td>0.024492</td>\n",
       "    </tr>\n",
       "    <tr>\n",
       "      <th>303355</th>\n",
       "      <td>0.025843</td>\n",
       "    </tr>\n",
       "    <tr>\n",
       "      <th>303356</th>\n",
       "      <td>0.194864</td>\n",
       "    </tr>\n",
       "    <tr>\n",
       "      <th>303357</th>\n",
       "      <td>0.021743</td>\n",
       "    </tr>\n",
       "    <tr>\n",
       "      <th>303358</th>\n",
       "      <td>0.032191</td>\n",
       "    </tr>\n",
       "    <tr>\n",
       "      <th>303359</th>\n",
       "      <td>0.036303</td>\n",
       "    </tr>\n",
       "    <tr>\n",
       "      <th>303360</th>\n",
       "      <td>0.045644</td>\n",
       "    </tr>\n",
       "    <tr>\n",
       "      <th>303361</th>\n",
       "      <td>0.044543</td>\n",
       "    </tr>\n",
       "    <tr>\n",
       "      <th>303362</th>\n",
       "      <td>0.079353</td>\n",
       "    </tr>\n",
       "    <tr>\n",
       "      <th>303363</th>\n",
       "      <td>0.043673</td>\n",
       "    </tr>\n",
       "    <tr>\n",
       "      <th>303364</th>\n",
       "      <td>0.060185</td>\n",
       "    </tr>\n",
       "    <tr>\n",
       "      <th>303365</th>\n",
       "      <td>0.066821</td>\n",
       "    </tr>\n",
       "    <tr>\n",
       "      <th>303366</th>\n",
       "      <td>0.024953</td>\n",
       "    </tr>\n",
       "    <tr>\n",
       "      <th>303367</th>\n",
       "      <td>0.035676</td>\n",
       "    </tr>\n",
       "    <tr>\n",
       "      <th>303368</th>\n",
       "      <td>0.159408</td>\n",
       "    </tr>\n",
       "    <tr>\n",
       "      <th>303369</th>\n",
       "      <td>0.019978</td>\n",
       "    </tr>\n",
       "    <tr>\n",
       "      <th>303370</th>\n",
       "      <td>0.029853</td>\n",
       "    </tr>\n",
       "    <tr>\n",
       "      <th>303371</th>\n",
       "      <td>0.017443</td>\n",
       "    </tr>\n",
       "    <tr>\n",
       "      <th>303372</th>\n",
       "      <td>0.017863</td>\n",
       "    </tr>\n",
       "    <tr>\n",
       "      <th>303373</th>\n",
       "      <td>0.052101</td>\n",
       "    </tr>\n",
       "    <tr>\n",
       "      <th>303374</th>\n",
       "      <td>0.028338</td>\n",
       "    </tr>\n",
       "  </tbody>\n",
       "</table>\n",
       "<p>303375 rows × 1 columns</p>\n",
       "</div>"
      ],
      "text/plain": [
       "            pCTR\n",
       "0       0.101232\n",
       "1       0.323774\n",
       "2       0.022959\n",
       "3       0.123400\n",
       "4       0.059699\n",
       "5       0.050582\n",
       "6       0.035995\n",
       "7       0.086464\n",
       "8       0.076653\n",
       "9       0.078304\n",
       "10      0.034556\n",
       "11      0.240537\n",
       "12      0.117317\n",
       "13      0.039609\n",
       "14      0.093409\n",
       "15      0.041056\n",
       "16      0.046634\n",
       "17      0.033570\n",
       "18      0.039559\n",
       "19      0.045521\n",
       "20      0.034242\n",
       "21      0.102189\n",
       "22      0.041394\n",
       "23      0.038271\n",
       "24      0.020775\n",
       "25      0.108167\n",
       "26      0.025269\n",
       "27      0.072258\n",
       "28      0.037510\n",
       "29      0.025456\n",
       "...          ...\n",
       "303345  0.067831\n",
       "303346  0.064857\n",
       "303347  0.040856\n",
       "303348  0.030598\n",
       "303349  0.049693\n",
       "303350  0.036204\n",
       "303351  0.112371\n",
       "303352  0.119069\n",
       "303353  0.220055\n",
       "303354  0.024492\n",
       "303355  0.025843\n",
       "303356  0.194864\n",
       "303357  0.021743\n",
       "303358  0.032191\n",
       "303359  0.036303\n",
       "303360  0.045644\n",
       "303361  0.044543\n",
       "303362  0.079353\n",
       "303363  0.043673\n",
       "303364  0.060185\n",
       "303365  0.066821\n",
       "303366  0.024953\n",
       "303367  0.035676\n",
       "303368  0.159408\n",
       "303369  0.019978\n",
       "303370  0.029853\n",
       "303371  0.017443\n",
       "303372  0.017863\n",
       "303373  0.052101\n",
       "303374  0.028338\n",
       "\n",
       "[303375 rows x 1 columns]"
      ]
     },
     "execution_count": 171,
     "metadata": {},
     "output_type": "execute_result"
    }
   ],
   "source": [
    "r_pCTR = gen_pCTR (test_data_1)"
   ]
  },
  {
   "cell_type": "markdown",
   "metadata": {},
   "source": [
    "## Predict pWP"
   ]
  },
  {
   "cell_type": "code",
   "execution_count": 77,
   "metadata": {},
   "outputs": [
    {
     "name": "stdout",
     "output_type": "stream",
     "text": [
      "MODEL 2 - LR Classifier - clf2_pWP\n",
      "Running time = 187.7286138534546\n",
      "pWP: \n",
      "[  65.6975708    91.52745819   77.35237122 ...,  108.89304352   57.02135849\n",
      "   59.96221542]\n"
     ]
    }
   ],
   "source": [
    "#\"MODEL 2 - XGBRegressor() - clf2_pWP\"\n",
    "\n",
    "# Train and Predict\n",
    "start = time.time()\n",
    "#clf2_pWP = XGBClassifier()\n",
    "clf2_pWP = XGBRegressor()\n",
    "clf2_pWP.fit(train_x, train_y_wp)\n",
    "prediction2_wp = np.array(clf2_pWP.predict(test_x))\n",
    "pWP_m6 = clf.predict_proba(test_x)  \n",
    "end = time.time()\n",
    "\n",
    "print(\"MODEL 2 - LR Classifier - clf2_pWP\")\n",
    "print(\"Running time =\", end - start)\n",
    "print(\"pWP: \")\n",
    "print(prediction2_wp)"
   ]
  },
  {
   "cell_type": "code",
   "execution_count": 78,
   "metadata": {},
   "outputs": [
    {
     "data": {
      "text/html": [
       "<div>\n",
       "<style scoped>\n",
       "    .dataframe tbody tr th:only-of-type {\n",
       "        vertical-align: middle;\n",
       "    }\n",
       "\n",
       "    .dataframe tbody tr th {\n",
       "        vertical-align: top;\n",
       "    }\n",
       "\n",
       "    .dataframe thead th {\n",
       "        text-align: right;\n",
       "    }\n",
       "</style>\n",
       "<table border=\"1\" class=\"dataframe\">\n",
       "  <thead>\n",
       "    <tr style=\"text-align: right;\">\n",
       "      <th></th>\n",
       "      <th>pWP</th>\n",
       "    </tr>\n",
       "  </thead>\n",
       "  <tbody>\n",
       "    <tr>\n",
       "      <th>0</th>\n",
       "      <td>65.697571</td>\n",
       "    </tr>\n",
       "    <tr>\n",
       "      <th>1</th>\n",
       "      <td>91.527458</td>\n",
       "    </tr>\n",
       "    <tr>\n",
       "      <th>2</th>\n",
       "      <td>77.352371</td>\n",
       "    </tr>\n",
       "    <tr>\n",
       "      <th>3</th>\n",
       "      <td>59.052113</td>\n",
       "    </tr>\n",
       "    <tr>\n",
       "      <th>4</th>\n",
       "      <td>57.523701</td>\n",
       "    </tr>\n",
       "  </tbody>\n",
       "</table>\n",
       "</div>"
      ],
      "text/plain": [
       "         pWP\n",
       "0  65.697571\n",
       "1  91.527458\n",
       "2  77.352371\n",
       "3  59.052113\n",
       "4  57.523701"
      ]
     },
     "execution_count": 78,
     "metadata": {},
     "output_type": "execute_result"
    }
   ],
   "source": [
    "r_pWP = pd.DataFrame(data = prediction2_wp, columns=['pWP'])\n",
    "r_pWP.head(5)"
   ]
  },
  {
   "cell_type": "code",
   "execution_count": 109,
   "metadata": {},
   "outputs": [],
   "source": [
    "def gen_pWP (df):\n",
    "    prediction2_wp = np.array(clf2_pWP.predict(df))\n",
    "    r_pWP = pd.DataFrame(data = prediction2_wp, columns=['pWP'])\n",
    "    return r_pWP"
   ]
  },
  {
   "cell_type": "code",
   "execution_count": 114,
   "metadata": {},
   "outputs": [],
   "source": [
    "r_pWP = gen_pWP(val_test)"
   ]
  },
  {
   "cell_type": "code",
   "execution_count": 172,
   "metadata": {},
   "outputs": [],
   "source": [
    "r_pWP = gen_pWP(test_data_1)"
   ]
  },
  {
   "cell_type": "markdown",
   "metadata": {},
   "source": [
    "## Merge results"
   ]
  },
  {
   "cell_type": "code",
   "execution_count": 79,
   "metadata": {},
   "outputs": [],
   "source": [
    "def comb (df, r_pCTR, r_pWP):\n",
    "    data_comb = df.reset_index()\n",
    "    data_comb = data_comb.drop(data_comb.columns[[0]], axis=1)\n",
    "    print('test_comb: ', data_comb.shape)\n",
    "    print('r_pCTR:', r_pCTR.shape)\n",
    "    print('r_pWP:' ,r_pWP.shape)\n",
    "    data_comb= pd.concat([data_comb, r_pWP], axis = 1)\n",
    "    data_comb= pd.concat([data_comb, r_pCTR], axis = 1)\n",
    "    print('new test_comb: ',data_comb.shape)\n",
    "    return data_comb"
   ]
  },
  {
   "cell_type": "code",
   "execution_count": 80,
   "metadata": {},
   "outputs": [
    {
     "name": "stdout",
     "output_type": "stream",
     "text": [
      "test_comb:  (303925, 103)\n",
      "r_pCTR: (303925, 1)\n",
      "r_pWP: (303925, 1)\n",
      "new test_comb:  (303925, 105)\n"
     ]
    }
   ],
   "source": [
    "val_comb = comb (val_all_1, r_pCTR, r_pWP)"
   ]
  },
  {
   "cell_type": "code",
   "execution_count": null,
   "metadata": {},
   "outputs": [],
   "source": []
  },
  {
   "cell_type": "markdown",
   "metadata": {},
   "source": [
    "## Calculate Rho"
   ]
  },
  {
   "cell_type": "code",
   "execution_count": 81,
   "metadata": {},
   "outputs": [
    {
     "data": {
      "text/plain": [
       "(303925, 106)"
      ]
     },
     "execution_count": 81,
     "metadata": {},
     "output_type": "execute_result"
    }
   ],
   "source": [
    "#test_comb['Rho']= test_comb['pCTR']/test_comb['pWP']\n",
    "#test_comb.shape\n",
    "\n",
    "val_comb['Rho']= val_comb['pCTR']/val_comb['pWP']\n",
    "val_comb.shape"
   ]
  },
  {
   "cell_type": "code",
   "execution_count": 89,
   "metadata": {},
   "outputs": [
    {
     "data": {
      "text/plain": [
       "0         0.275551\n",
       "1         0.145705\n",
       "2         0.219550\n",
       "3         0.331771\n",
       "4         0.173629\n",
       "5         0.610329\n",
       "6         0.705285\n",
       "7         0.764841\n",
       "8         0.617507\n",
       "9         0.356170\n",
       "10        1.829982\n",
       "11        0.379548\n",
       "12        0.208755\n",
       "13        1.602664\n",
       "14        0.510285\n",
       "15        0.237465\n",
       "16        0.493289\n",
       "17        0.209575\n",
       "18        1.867324\n",
       "19        0.369002\n",
       "20        0.574550\n",
       "21        0.746440\n",
       "22        0.490968\n",
       "23        0.166786\n",
       "24        1.815439\n",
       "25        0.800898\n",
       "26        0.125406\n",
       "27        0.781406\n",
       "28        0.401294\n",
       "29        1.428445\n",
       "            ...   \n",
       "303895    3.014953\n",
       "303896    0.414558\n",
       "303897    2.832720\n",
       "303898    0.623070\n",
       "303899    0.545842\n",
       "303900    1.130764\n",
       "303901    0.191185\n",
       "303902    0.494110\n",
       "303903    0.250683\n",
       "303904    0.758241\n",
       "303905    1.063100\n",
       "303906    0.334735\n",
       "303907    0.275273\n",
       "303908    0.333839\n",
       "303909    0.234174\n",
       "303910    1.349804\n",
       "303911    0.740364\n",
       "303912    0.420640\n",
       "303913    0.605636\n",
       "303914    0.346549\n",
       "303915    2.316627\n",
       "303916    1.046644\n",
       "303917    0.287913\n",
       "303918    0.479018\n",
       "303919    0.218429\n",
       "303920    0.570966\n",
       "303921    0.251133\n",
       "303922    0.507112\n",
       "303923    0.671465\n",
       "303924    0.788923\n",
       "Name: Rho, Length: 303925, dtype: float32"
      ]
     },
     "execution_count": 89,
     "metadata": {},
     "output_type": "execute_result"
    }
   ],
   "source": [
    "val_comb['Rho'] = val_comb['Rho'] * 1000\n",
    "val_comb['Rho']"
   ]
  },
  {
   "cell_type": "code",
   "execution_count": 83,
   "metadata": {},
   "outputs": [
    {
     "data": {
      "image/png": "[encoded data removed]",
      "text/plain": [
       "<matplotlib.figure.Figure at 0x1d1be8400>"
      ]
     },
     "metadata": {},
     "output_type": "display_data"
    }
   ],
   "source": [
    "import seaborn as sns\n",
    "\n",
    "q_75 = val_comb['Rho'].quantile(0.75)\n",
    "q_25 = val_comb['Rho'].quantile(0.25)\n",
    "less_25 = val_comb['Rho'][val_comb['Rho'] <= q_25]\n",
    "sns.distplot(less_25, bins = 500)\n",
    "\n",
    "#sns.distplot(val_comb['Rho'])\n",
    "plt.show()"
   ]
  },
  {
   "cell_type": "code",
   "execution_count": 84,
   "metadata": {},
   "outputs": [
    {
     "data": {
      "image/png": "[encoded data removed]",
      "text/plain": [
       "<matplotlib.figure.Figure at 0x1d1bf0438>"
      ]
     },
     "metadata": {},
     "output_type": "display_data"
    }
   ],
   "source": [
    "sns.distplot(val_comb['bidprice']-val_comb['payprice'])\n",
    "plt.show()"
   ]
  },
  {
   "cell_type": "markdown",
   "metadata": {},
   "source": [
    "## Function: check clicks"
   ]
  },
  {
   "cell_type": "code",
   "execution_count": 106,
   "metadata": {},
   "outputs": [],
   "source": [
    "#B_curr=6250000\n",
    "\n",
    "def test_clicks (df, E_Rho, B_curr, min_inc):\n",
    "    i = 0\n",
    "    c = 0\n",
    "    s = 0\n",
    "    b = 0\n",
    "    while (B_curr > 0) and (i < len(df)):\n",
    "        if (df['Rho'].iloc[i] < E_Rho): \n",
    "            i += 1\n",
    "        elif (df['payprice'].iloc[i] > B_curr):\n",
    "            i += 1\n",
    "        elif (df['pWP'].iloc[i] < df['slotprice'].iloc[i]):\n",
    "            i += 1\n",
    "        elif ((df['pWP'].iloc[i] + min_inc) < df['bidprice'].iloc[i]):\n",
    "            i += 1  \n",
    "        else: \n",
    "            B_curr -= df['payprice'].iloc[i]\n",
    "            c += df['click'].iloc[i]\n",
    "            b += 1\n",
    "            s += df['payprice'].iloc[i]\n",
    "            i += 1\n",
    "            #print(i, c, s, B_curr)\n",
    "    return c, s, b"
   ]
  },
  {
   "cell_type": "code",
   "execution_count": null,
   "metadata": {},
   "outputs": [],
   "source": []
  },
  {
   "cell_type": "markdown",
   "metadata": {},
   "source": [
    "## Find optimal Rho"
   ]
  },
  {
   "cell_type": "code",
   "execution_count": 94,
   "metadata": {},
   "outputs": [
    {
     "data": {
      "text/plain": [
       "(202, 106)"
      ]
     },
     "execution_count": 94,
     "metadata": {},
     "output_type": "execute_result"
    }
   ],
   "source": [
    "#test_comb_1=test_comb[test_comb['click']==1]\n",
    "#test_comb_1.shape\n",
    "\n",
    "val_comb_1=val_comb[val_comb['click']==1]\n",
    "val_comb_1.shape"
   ]
  },
  {
   "cell_type": "code",
   "execution_count": 95,
   "metadata": {},
   "outputs": [
    {
     "name": "stdout",
     "output_type": "stream",
     "text": [
      "Rho_avg:  0.7293069958686829\n",
      "Rho_med:  0.47073841094970703\n",
      "Rho1_avg:  5.463656425476074\n",
      "Rho1_med:  3.305744171142578\n",
      "Rho1_min:  0.213741\n",
      "Rho1_max:  23.8784\n",
      "Rho1_q25:  1.12327441573143\n"
     ]
    }
   ],
   "source": [
    "Rho = val_comb['Rho']\n",
    "Rho_avg = Rho.mean()\n",
    "print('Rho_avg: ', Rho_avg)\n",
    "Rho_med = Rho.median()\n",
    "print('Rho_med: ',Rho_med)\n",
    "\n",
    "Rho1 = val_comb_1['Rho']\n",
    "Rho1_avg = Rho1.mean()\n",
    "print('Rho1_avg: ',Rho1_avg)\n",
    "Rho1_med = Rho1.median()\n",
    "print('Rho1_med: ',Rho1_med)\n",
    "Rho1_min = Rho1.min()\n",
    "print('Rho1_min: ',Rho1_min)\n",
    "Rho1_max = Rho1.max()\n",
    "print('Rho1_max: ',Rho1_max)\n",
    "Rho1_q25 = Rho1.quantile(0.25)\n",
    "print('Rho1_q25: ',Rho1_q25)"
   ]
  },
  {
   "cell_type": "code",
   "execution_count": 111,
   "metadata": {},
   "outputs": [
    {
     "name": "stdout",
     "output_type": "stream",
     "text": [
      "[  89.  109.  135.  160.  167.  162.  156.  152.] [ 6250000.  6250000.  6250000.  6250000.  5259356.  4313450.  3571154.\n",
      "  2984816.] [ 6250000.  6250000.  6250000.  6250000.  5259356.  4313450.  3571154.\n",
      "  2984816.    42310.]\n"
     ]
    }
   ],
   "source": [
    "df = val_comb\n",
    "\n",
    "#j = 0\n",
    "clicks =[]\n",
    "spends=[]\n",
    "bids = []\n",
    "J=[]\n",
    "j=0.4\n",
    "\n",
    "while j < 1.2: \n",
    "    c, s, b = test_clicks(df, j, 6250000,262)\n",
    "    clicks = np.append(clicks,c)\n",
    "    spends = np.append(spends,s)\n",
    "    bids = np.append(spends,b)\n",
    "    J = np.append(J,j)\n",
    "    j +=0.1\n",
    "\n",
    "print(clicks, spends, bids)"
   ]
  },
  {
   "cell_type": "code",
   "execution_count": null,
   "metadata": {},
   "outputs": [],
   "source": []
  },
  {
   "cell_type": "code",
   "execution_count": 112,
   "metadata": {},
   "outputs": [
    {
     "data": {
      "text/html": [
       "<div>\n",
       "<style scoped>\n",
       "    .dataframe tbody tr th:only-of-type {\n",
       "        vertical-align: middle;\n",
       "    }\n",
       "\n",
       "    .dataframe tbody tr th {\n",
       "        vertical-align: top;\n",
       "    }\n",
       "\n",
       "    .dataframe thead th {\n",
       "        text-align: right;\n",
       "    }\n",
       "</style>\n",
       "<table border=\"1\" class=\"dataframe\">\n",
       "  <thead>\n",
       "    <tr style=\"text-align: right;\">\n",
       "      <th></th>\n",
       "      <th>Rho_threshold</th>\n",
       "      <th>Clicks</th>\n",
       "    </tr>\n",
       "  </thead>\n",
       "  <tbody>\n",
       "    <tr>\n",
       "      <th>0</th>\n",
       "      <td>0.4</td>\n",
       "      <td>89.0</td>\n",
       "    </tr>\n",
       "    <tr>\n",
       "      <th>1</th>\n",
       "      <td>0.5</td>\n",
       "      <td>109.0</td>\n",
       "    </tr>\n",
       "    <tr>\n",
       "      <th>2</th>\n",
       "      <td>0.6</td>\n",
       "      <td>135.0</td>\n",
       "    </tr>\n",
       "    <tr>\n",
       "      <th>3</th>\n",
       "      <td>0.7</td>\n",
       "      <td>160.0</td>\n",
       "    </tr>\n",
       "    <tr>\n",
       "      <th>4</th>\n",
       "      <td>0.8</td>\n",
       "      <td>167.0</td>\n",
       "    </tr>\n",
       "  </tbody>\n",
       "</table>\n",
       "</div>"
      ],
      "text/plain": [
       "   Rho_threshold  Clicks\n",
       "0            0.4    89.0\n",
       "1            0.5   109.0\n",
       "2            0.6   135.0\n",
       "3            0.7   160.0\n",
       "4            0.8   167.0"
      ]
     },
     "execution_count": 112,
     "metadata": {},
     "output_type": "execute_result"
    }
   ],
   "source": [
    "df_C = pd.DataFrame(data =clicks,columns=['Clicks'] )\n",
    "df_J = pd.DataFrame(data =J,columns=['Rho_threshold'] )\n",
    "df_T = pd.concat([df_J,df_C],axis = 1)\n",
    "df_T.head(5)"
   ]
  },
  {
   "cell_type": "code",
   "execution_count": 113,
   "metadata": {},
   "outputs": [
    {
     "data": {
      "image/png": "[encoded data removed]",
      "text/plain": [
       "<matplotlib.figure.Figure at 0x16592ee10>"
      ]
     },
     "metadata": {},
     "output_type": "display_data"
    }
   ],
   "source": [
    "plt.plot(df_T ['Rho_threshold'],  df_T ['Clicks']) \n",
    "plt.show()"
   ]
  },
  {
   "cell_type": "code",
   "execution_count": 100,
   "metadata": {},
   "outputs": [
    {
     "name": "stderr",
     "output_type": "stream",
     "text": [
      "/Users/jennyyang/anaconda3/lib/python3.6/site-packages/numpy/core/fromnumeric.py:57: FutureWarning: 'argmax' is deprecated. Use 'idxmax' instead. The behavior of 'argmax' will be corrected to return the positional maximum in the future. Use 'series.values.argmax' to get the position of the maximum now.\n",
      "  return getattr(obj, method)(*args, **kwds)\n"
     ]
    },
    {
     "data": {
      "text/plain": [
       "0.7"
      ]
     },
     "execution_count": 100,
     "metadata": {},
     "output_type": "execute_result"
    }
   ],
   "source": [
    "Rho_min = np.argmax(df_T ['Clicks'])*0.1+0.2\n",
    "Rho_min "
   ]
  },
  {
   "cell_type": "markdown",
   "metadata": {},
   "source": [
    "## Find optimal bidding increment "
   ]
  },
  {
   "cell_type": "code",
   "execution_count": 123,
   "metadata": {},
   "outputs": [
    {
     "name": "stdout",
     "output_type": "stream",
     "text": [
      "[ 161.  161.  162.  163.  163.  164.  164.  164.  164.  164.  164.  165.\n",
      "  164.  164.  164.  164.  163.  163.  163.  164.  164.  162.  160.  157.\n",
      "  156.  156.  156.  156.  156.  156.  156.  156.  156.  156.  156.  156.\n",
      "  156.  156.  156.  156.  156.] [ 5940425.  5975684.  6003038.  6048688.  6096005.  6140328.  6162656.\n",
      "  6185464.  6205602.  6225495.  6249988.  6250000.  6250000.  6250000.\n",
      "  6250000.  6250000.  6250000.  6250000.  6250000.  6250000.  6250000.\n",
      "  6250000.  6250000.  6250000.  6250000.  6250000.  6250000.  6250000.\n",
      "  6250000.  6250000.  6250000.  6250000.  6250000.  6250000.  6250000.\n",
      "  6250000.  6250000.  6250000.  6250000.  6250000.  6250000.] [ 5940425.  5975684.  6003038.  6048688.  6096005.  6140328.  6162656.\n",
      "  6185464.  6205602.  6225495.  6249988.  6250000.  6250000.  6250000.\n",
      "  6250000.  6250000.  6250000.  6250000.  6250000.  6250000.  6250000.\n",
      "  6250000.  6250000.  6250000.  6250000.  6250000.  6250000.  6250000.\n",
      "  6250000.  6250000.  6250000.  6250000.  6250000.  6250000.  6250000.\n",
      "  6250000.  6250000.  6250000.  6250000.  6250000.  6250000.    88530.]\n"
     ]
    }
   ],
   "source": [
    "#j = 0\n",
    "clicks =[]\n",
    "spends=[]\n",
    "bids=[]\n",
    "M=[]\n",
    "m=240\n",
    "\n",
    "while m <= 280: \n",
    "    c, s, b = test_clicks(val_comb, 0.7, 6250000,m)\n",
    "    clicks = np.append(clicks,c)\n",
    "    spends = np.append(spends,s)\n",
    "    bids = np.append(spends,b)\n",
    "    M = np.append(M,m)\n",
    "    m +=1\n",
    "\n",
    "print(clicks, spends, bids)"
   ]
  },
  {
   "cell_type": "code",
   "execution_count": 120,
   "metadata": {},
   "outputs": [
    {
     "data": {
      "text/html": [
       "<div>\n",
       "<style scoped>\n",
       "    .dataframe tbody tr th:only-of-type {\n",
       "        vertical-align: middle;\n",
       "    }\n",
       "\n",
       "    .dataframe tbody tr th {\n",
       "        vertical-align: top;\n",
       "    }\n",
       "\n",
       "    .dataframe thead th {\n",
       "        text-align: right;\n",
       "    }\n",
       "</style>\n",
       "<table border=\"1\" class=\"dataframe\">\n",
       "  <thead>\n",
       "    <tr style=\"text-align: right;\">\n",
       "      <th></th>\n",
       "      <th>Min_increment</th>\n",
       "      <th>Clicks</th>\n",
       "    </tr>\n",
       "  </thead>\n",
       "  <tbody>\n",
       "    <tr>\n",
       "      <th>0</th>\n",
       "      <td>240.0</td>\n",
       "      <td>157.0</td>\n",
       "    </tr>\n",
       "    <tr>\n",
       "      <th>1</th>\n",
       "      <td>241.0</td>\n",
       "      <td>157.0</td>\n",
       "    </tr>\n",
       "    <tr>\n",
       "      <th>2</th>\n",
       "      <td>242.0</td>\n",
       "      <td>157.0</td>\n",
       "    </tr>\n",
       "    <tr>\n",
       "      <th>3</th>\n",
       "      <td>243.0</td>\n",
       "      <td>158.0</td>\n",
       "    </tr>\n",
       "    <tr>\n",
       "      <th>4</th>\n",
       "      <td>244.0</td>\n",
       "      <td>158.0</td>\n",
       "    </tr>\n",
       "  </tbody>\n",
       "</table>\n",
       "</div>"
      ],
      "text/plain": [
       "   Min_increment  Clicks\n",
       "0          240.0   157.0\n",
       "1          241.0   157.0\n",
       "2          242.0   157.0\n",
       "3          243.0   158.0\n",
       "4          244.0   158.0"
      ]
     },
     "execution_count": 120,
     "metadata": {},
     "output_type": "execute_result"
    }
   ],
   "source": [
    "df_C = pd.DataFrame(data =clicks,columns=['Clicks'] )\n",
    "df_M = pd.DataFrame(data =M,columns=['Min_increment'] )\n",
    "df_T = pd.concat([df_M,df_C],axis = 1)\n",
    "df_T.head(5)"
   ]
  },
  {
   "cell_type": "code",
   "execution_count": 121,
   "metadata": {},
   "outputs": [
    {
     "data": {
      "image/png": "[encoded data removed]",
      "text/plain": [
       "<matplotlib.figure.Figure at 0x165882ba8>"
      ]
     },
     "metadata": {},
     "output_type": "display_data"
    }
   ],
   "source": [
    "plt.plot(df_T ['Min_increment'],  df_T ['Clicks']) \n",
    "plt.show()"
   ]
  },
  {
   "cell_type": "code",
   "execution_count": 122,
   "metadata": {},
   "outputs": [
    {
     "name": "stderr",
     "output_type": "stream",
     "text": [
      "/Users/jennyyang/anaconda3/lib/python3.6/site-packages/numpy/core/fromnumeric.py:57: FutureWarning: 'argmax' is deprecated. Use 'idxmax' instead. The behavior of 'argmax' will be corrected to return the positional maximum in the future. Use 'series.values.argmax' to get the position of the maximum now.\n",
      "  return getattr(obj, method)(*args, **kwds)\n"
     ]
    },
    {
     "data": {
      "text/plain": [
       "262"
      ]
     },
     "execution_count": 122,
     "metadata": {},
     "output_type": "execute_result"
    }
   ],
   "source": [
    "Inc_max = np.argmax(df_T ['Clicks'])+240\n",
    "Inc_max "
   ]
  },
  {
   "cell_type": "code",
   "execution_count": null,
   "metadata": {},
   "outputs": [],
   "source": []
  },
  {
   "cell_type": "code",
   "execution_count": 101,
   "metadata": {},
   "outputs": [
    {
     "data": {
      "text/plain": [
       "(164, 6249988)"
      ]
     },
     "execution_count": 101,
     "metadata": {},
     "output_type": "execute_result"
    }
   ],
   "source": [
    "test_clicks(val_comb, 0.7, 6250000,250)"
   ]
  },
  {
   "cell_type": "code",
   "execution_count": null,
   "metadata": {},
   "outputs": [],
   "source": []
  },
  {
   "cell_type": "code",
   "execution_count": null,
   "metadata": {},
   "outputs": [],
   "source": []
  },
  {
   "cell_type": "code",
   "execution_count": null,
   "metadata": {},
   "outputs": [],
   "source": []
  },
  {
   "cell_type": "code",
   "execution_count": null,
   "metadata": {},
   "outputs": [],
   "source": []
  },
  {
   "cell_type": "code",
   "execution_count": null,
   "metadata": {},
   "outputs": [],
   "source": []
  },
  {
   "cell_type": "markdown",
   "metadata": {},
   "source": [
    "## Final Bidding "
   ]
  },
  {
   "cell_type": "code",
   "execution_count": 178,
   "metadata": {},
   "outputs": [],
   "source": [
    "def bid (df, E_Rho, B_curr, min_inc):\n",
    "    df['bid']=''\n",
    "    i = 0\n",
    "    c = 0\n",
    "    s = 0\n",
    "    while (B_curr > 0) and (i < len(df)):\n",
    "        if (df['Rho'].iloc[i] < E_Rho): \n",
    "            df['bid'].iloc[i] = 0\n",
    "            i += 1\n",
    "        elif (df['pWP'].iloc[i] > B_curr):\n",
    "            df['bid'].iloc[i] = 0\n",
    "            i += 1\n",
    "        elif (df['pWP'].iloc[i] < df['slotprice'].iloc[i]):\n",
    "            df['bid'].iloc[i] = 0\n",
    "            i += 1\n",
    "        else: \n",
    "            df['bid'].iloc[i] = df['pWP'].iloc[i]+ min_inc\n",
    "            c += 1\n",
    "            s += df['pWP'].iloc[i]\n",
    "            i += 1\n",
    "            #print(i, c, s, B_curr)\n",
    "    return c, s"
   ]
  },
  {
   "cell_type": "code",
   "execution_count": null,
   "metadata": {},
   "outputs": [],
   "source": []
  },
  {
   "cell_type": "code",
   "execution_count": null,
   "metadata": {},
   "outputs": [],
   "source": []
  }
 ],
 "metadata": {
  "kernelspec": {
   "display_name": "Python 3",
   "language": "python",
   "name": "python3"
  },
  "language_info": {
   "codemirror_mode": {
    "name": "ipython",
    "version": 3
   },
   "file_extension": ".py",
   "mimetype": "text/x-python",
   "name": "python",
   "nbconvert_exporter": "python",
   "pygments_lexer": "ipython3",
   "version": "3.6.2"
  }
 },
 "nbformat": 4,
 "nbformat_minor": 2
}
